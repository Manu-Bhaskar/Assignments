{
 "cells": [
  {
   "cell_type": "markdown",
   "id": "225640ce-a3bb-4260-aeb6-a69c85b4bec1",
   "metadata": {},
   "source": [
    "**Q1. What is an API? Give an example, where an API is used in real life.**"
   ]
  },
  {
   "cell_type": "markdown",
   "id": "87137e7a-2047-441a-a819-7d6bd86ecb7c",
   "metadata": {},
   "source": [
    "APIs are mechanisms that allows communication between two software component within a application.  \n",
    "For example an API is used when we use a weather app to get daily weather data from the software system thet contains the required data."
   ]
  },
  {
   "cell_type": "markdown",
   "id": "df0c0883-b1ea-4629-af9c-faf21812ae51",
   "metadata": {},
   "source": [
    "**Q2. Give advantages and disadvantages of using API.**"
   ]
  },
  {
   "cell_type": "markdown",
   "id": "46431c98-a9f3-4042-99f4-176bac0d0fb9",
   "metadata": {},
   "source": [
    "Advantages of API:-\n",
    "* APIs can allow websites to access data from external sources\n",
    "* APIs can enhance security by controlling access to certain functions of application which client does not have authority to access.\n",
    "* APIs integrate different software packages making it easier to manage and monitor the network."
   ]
  },
  {
   "cell_type": "markdown",
   "id": "b3e5b7a2-7600-4b02-8efa-aab51eb1a519",
   "metadata": {},
   "source": [
    "Disadvantage of API:-\n",
    "* API infrastructe is vurnerable to security breaches.\n",
    "* APIs are complex to create and require significant amount of effort to maintain.\n",
    "* API can have compatibility issues because of different versions of software systems in use."
   ]
  },
  {
   "cell_type": "markdown",
   "id": "794a1c0e-e18a-4f90-9364-4226c662d2de",
   "metadata": {},
   "source": [
    "**Q3. What is a Web API? Differentiate between API and Web API.**"
   ]
  },
  {
   "cell_type": "markdown",
   "id": "c5c072a1-6b50-429b-8ed7-bb4a5377dff2",
   "metadata": {},
   "source": [
    "Web API or Web Service API is the type of API that exist between a web browser and a server.  \n",
    "Application programming interface (API) is an interface that is used to communicate between different softwares whereas Web API is a type of API that is used between a web browser and web server or for communication between applications over web."
   ]
  },
  {
   "cell_type": "markdown",
   "id": "17d0bc38-05b2-4a68-8c76-289b015706ec",
   "metadata": {},
   "source": [
    "**Q4. Explain REST and SOAP Architecture. Mention shortcomings of SOAP.**"
   ]
  },
  {
   "cell_type": "markdown",
   "id": "bb6f6ca5-b51c-41a6-8681-77d469a888ec",
   "metadata": {},
   "source": [
    "REST Architecture or REpresentational State Transfer Architecture is model of a web service which only uses HTTP (Hyper Text Transfer Protocol) verbs to send requests to server and server can send response back in any format.  \n",
    "SOAP Architecture or Simple Object Access Protocol is a mechanism of building a web service in which communication is done using XML between client and server.  \n",
    "SOAP Architecture is very complex to implement, not very scalable, and not as flexible as REST APIs."
   ]
  },
  {
   "cell_type": "markdown",
   "id": "73058232-b0f1-487c-b624-3a773de44351",
   "metadata": {},
   "source": [
    "**Q5. Differentiate between REST and SOAP.**"
   ]
  },
  {
   "cell_type": "markdown",
   "id": "ce540e72-d43f-46d6-b7f9-bd855d208a07",
   "metadata": {},
   "source": [
    "* REST uses HTTP verbs to communicate between client and server whereas SOAP uses XML envolpes to communicate between client and server.\n",
    "* Modern applicaation designs use REST APIs to make them more scalable and flexible whereas SOAP is used in case of we need better data integrity and security. "
   ]
  }
 ],
 "metadata": {
  "kernelspec": {
   "display_name": "Python 3 (ipykernel)",
   "language": "python",
   "name": "python3"
  },
  "language_info": {
   "codemirror_mode": {
    "name": "ipython",
    "version": 3
   },
   "file_extension": ".py",
   "mimetype": "text/x-python",
   "name": "python",
   "nbconvert_exporter": "python",
   "pygments_lexer": "ipython3",
   "version": "3.10.8"
  }
 },
 "nbformat": 4,
 "nbformat_minor": 5
}
