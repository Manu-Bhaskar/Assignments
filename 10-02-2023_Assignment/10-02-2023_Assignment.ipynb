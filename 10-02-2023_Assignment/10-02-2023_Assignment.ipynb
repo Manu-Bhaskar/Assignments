{
 "cells": [
  {
   "cell_type": "markdown",
   "id": "9d836237-12d7-4fe0-b075-0be47ae90a6a",
   "metadata": {},
   "source": [
    "**Q1. Which function is used to open a file? What are the different modes of opening a file? Explain each mode of file opening.**"
   ]
  },
  {
   "cell_type": "markdown",
   "id": "114b5260-3c87-4f68-922e-c78227622037",
   "metadata": {},
   "source": [
    "open() function is used to open a file. The function takes numerous parameters but two main attributes are filename and mode. Filename parameter denotes the name and path of the file that is to be opened. Mode parameter denotes the mode of editing i.e. reading mode, writing mode etc."
   ]
  },
  {
   "cell_type": "markdown",
   "id": "ca8416db-903b-4b20-ba80-2e78cef813b9",
   "metadata": {},
   "source": [
    "Mode is usually denoted by characters or set of character.\n",
    "--------- ---------------------------------------------------------------\n",
    "* 'r'       open for reading (default) that is data from file is only read not edited\n",
    "* 'w'       open for writing, truncating the file first \n",
    "* 'x'       create a new file and open it for writing. it gives error if file already exists\n",
    "* 'a'       open for writing, appending to the end of the file if it exists\n",
    "* 'b'       binary mode\n",
    "* 't'       text mode (default)\n",
    "* '+'       open a disk file for updating (reading and writing)\n",
    "* 'U'       universal newline mode (deprecated)"
   ]
  },
  {
   "cell_type": "markdown",
   "id": "23ceb80b-e28d-4b4c-a566-4dee662e5aee",
   "metadata": {},
   "source": [
    "**Q2. Why close() function is used? Why is it important to close a file?**"
   ]
  },
  {
   "cell_type": "markdown",
   "id": "9513c549-4527-405b-ae69-a3edcc195f27",
   "metadata": {},
   "source": [
    "close() function implements and saves the file. If we try to view the file before using close() function the file will not shaw any new data."
   ]
  },
  {
   "cell_type": "markdown",
   "id": "1b0f8696-57ef-4a5a-991b-7f91fb0e8405",
   "metadata": {},
   "source": [
    "**Q3. Write a python program to create a text file. Write ‘I want to become a Data Scientist’ in that file. Then close the file. Open this file and read the content of the file.**"
   ]
  },
  {
   "cell_type": "code",
   "execution_count": 2,
   "id": "d86c3dd7-5a2f-4d62-be47-a39ab0528834",
   "metadata": {},
   "outputs": [
    {
     "name": "stdout",
     "output_type": "stream",
     "text": [
      "/home/jovyan/work/Assignments/011.10-02-2023_Assignment\n"
     ]
    }
   ],
   "source": [
    "cd 011.10-02-2023_Assignment"
   ]
  },
  {
   "cell_type": "code",
   "execution_count": 3,
   "id": "df64a0e5-85a8-421e-8d2f-6601e2137aa9",
   "metadata": {},
   "outputs": [],
   "source": [
    "f = open('test.txt' , 'w')"
   ]
  },
  {
   "cell_type": "code",
   "execution_count": 4,
   "id": "6034ddf4-ff8c-4e6b-9b55-b9dc111f7285",
   "metadata": {},
   "outputs": [
    {
     "data": {
      "text/plain": [
       "33"
      ]
     },
     "execution_count": 4,
     "metadata": {},
     "output_type": "execute_result"
    }
   ],
   "source": [
    "f.write('I want to become a Data Scientist')"
   ]
  },
  {
   "cell_type": "code",
   "execution_count": 10,
   "id": "609e9e87-3003-4e13-973b-63b8b11dc035",
   "metadata": {},
   "outputs": [],
   "source": [
    "f.close()"
   ]
  },
  {
   "cell_type": "code",
   "execution_count": 6,
   "id": "c5b8214d-41c0-406a-b5b0-f22a24397426",
   "metadata": {},
   "outputs": [],
   "source": [
    "f = open('test.txt' , 'r')"
   ]
  },
  {
   "cell_type": "code",
   "execution_count": 7,
   "id": "5094dcfd-92ae-45e7-9e19-4ed1a95f02bc",
   "metadata": {},
   "outputs": [],
   "source": [
    "data = f.read()"
   ]
  },
  {
   "cell_type": "code",
   "execution_count": 8,
   "id": "ce0646d2-a9bb-4df3-abfb-72d657a9239d",
   "metadata": {},
   "outputs": [
    {
     "name": "stdout",
     "output_type": "stream",
     "text": [
      "I want to become a Data Scientist\n"
     ]
    }
   ],
   "source": [
    "print(data)"
   ]
  },
  {
   "cell_type": "markdown",
   "id": "2ecbc7d8-d5a3-4868-9325-82b070dde2dc",
   "metadata": {},
   "source": [
    "**Q4. Explain the following with python code: read(), readline() and readlines().**"
   ]
  },
  {
   "cell_type": "markdown",
   "id": "c77af780-cfaf-4378-bd8d-9535454fca1b",
   "metadata": {},
   "source": [
    "Let us create another file to understand the diffenence"
   ]
  },
  {
   "cell_type": "code",
   "execution_count": 12,
   "id": "176d7f27-3571-4300-97c4-1d0517f8aba5",
   "metadata": {},
   "outputs": [],
   "source": [
    "f = open('test1.txt' , 'w')"
   ]
  },
  {
   "cell_type": "code",
   "execution_count": 13,
   "id": "05e8dfba-7d41-483f-8081-f3378e9ff893",
   "metadata": {},
   "outputs": [
    {
     "data": {
      "text/plain": [
       "14"
      ]
     },
     "execution_count": 13,
     "metadata": {},
     "output_type": "execute_result"
    }
   ],
   "source": [
    "f.write(\"This is line 1\")"
   ]
  },
  {
   "cell_type": "code",
   "execution_count": 14,
   "id": "e00ed4cf-9809-41bd-90f6-d47d263f4857",
   "metadata": {},
   "outputs": [
    {
     "data": {
      "text/plain": [
       "15"
      ]
     },
     "execution_count": 14,
     "metadata": {},
     "output_type": "execute_result"
    }
   ],
   "source": [
    "f.write(\"\\nThis is line 2\")"
   ]
  },
  {
   "cell_type": "code",
   "execution_count": 15,
   "id": "2960011e-bc7c-4e68-9bd4-2555dae87b64",
   "metadata": {},
   "outputs": [
    {
     "data": {
      "text/plain": [
       "15"
      ]
     },
     "execution_count": 15,
     "metadata": {},
     "output_type": "execute_result"
    }
   ],
   "source": [
    "f.write(\"\\nThis is line 3\")"
   ]
  },
  {
   "cell_type": "code",
   "execution_count": 16,
   "id": "9af970a4-6cfe-441a-8694-e11139e74543",
   "metadata": {},
   "outputs": [],
   "source": [
    "f.close()"
   ]
  },
  {
   "cell_type": "markdown",
   "id": "f47d2180-6e96-4a39-9366-162cb8c52bac",
   "metadata": {},
   "source": [
    "read() method reads the data in the file until a specified number of characters given in parameter or until it hits end of file"
   ]
  },
  {
   "cell_type": "code",
   "execution_count": 17,
   "id": "a1e3481f-f5df-4578-82c5-abbd77681049",
   "metadata": {},
   "outputs": [],
   "source": [
    "f = open('test1.txt' , 'r')"
   ]
  },
  {
   "cell_type": "code",
   "execution_count": 18,
   "id": "2579f2ce-d3be-4dd5-8e96-e73397f1d5df",
   "metadata": {},
   "outputs": [
    {
     "data": {
      "text/plain": [
       "'This is line 1\\nThis is line 2\\nThis is line 3'"
      ]
     },
     "execution_count": 18,
     "metadata": {},
     "output_type": "execute_result"
    }
   ],
   "source": [
    "f.read()"
   ]
  },
  {
   "cell_type": "code",
   "execution_count": 20,
   "id": "c97bf63b-d114-45db-a1e6-10866562e3e9",
   "metadata": {},
   "outputs": [
    {
     "data": {
      "text/plain": [
       "0"
      ]
     },
     "execution_count": 20,
     "metadata": {},
     "output_type": "execute_result"
    }
   ],
   "source": [
    "f.seek(0)"
   ]
  },
  {
   "cell_type": "markdown",
   "id": "3c5b762b-567c-4fb1-a923-4694849fd93f",
   "metadata": {},
   "source": [
    "readline() function helps in reading the data in file till we hit a newline"
   ]
  },
  {
   "cell_type": "code",
   "execution_count": 21,
   "id": "3a197b26-2794-465b-bde3-c491766941df",
   "metadata": {},
   "outputs": [
    {
     "data": {
      "text/plain": [
       "'This is line 1\\n'"
      ]
     },
     "execution_count": 21,
     "metadata": {},
     "output_type": "execute_result"
    }
   ],
   "source": [
    "f.readline()"
   ]
  },
  {
   "cell_type": "code",
   "execution_count": 22,
   "id": "af417126-ae2d-43db-ab4b-06f69b8f30f8",
   "metadata": {},
   "outputs": [
    {
     "data": {
      "text/plain": [
       "0"
      ]
     },
     "execution_count": 22,
     "metadata": {},
     "output_type": "execute_result"
    }
   ],
   "source": [
    "f.seek(0)"
   ]
  },
  {
   "cell_type": "markdown",
   "id": "3f04a3f2-f0de-4508-ba63-d3a321a1667b",
   "metadata": {},
   "source": [
    "readlines() function returns a list of lines from the data i.e every newline is a separate element in the list"
   ]
  },
  {
   "cell_type": "code",
   "execution_count": 23,
   "id": "c3672164-dd60-4d44-8867-51fda00fe2af",
   "metadata": {},
   "outputs": [
    {
     "data": {
      "text/plain": [
       "['This is line 1\\n', 'This is line 2\\n', 'This is line 3']"
      ]
     },
     "execution_count": 23,
     "metadata": {},
     "output_type": "execute_result"
    }
   ],
   "source": [
    "f.readlines()"
   ]
  },
  {
   "cell_type": "markdown",
   "id": "cdd2db20-faea-4a4e-b8a3-d518cef8cfd4",
   "metadata": {},
   "source": [
    "**Q5. Explain why with statement is used with open(). What is the advantage of using with statement and open() together?**"
   ]
  },
  {
   "cell_type": "markdown",
   "id": "d875f2a0-35d3-4af9-8153-37229c87b973",
   "metadata": {},
   "source": [
    "Using 'with' keyword with open() method helps in avoiding major drawback of having to use close() after every operation on file is finished. 'with' statement block closes the file automatically after the operations on file is finished"
   ]
  },
  {
   "cell_type": "markdown",
   "id": "2566c3e9-5e0f-4881-9405-cb9018545fbd",
   "metadata": {},
   "source": [
    "**Q6. Explain the write() and writelines() functions. Give a suitable example.**"
   ]
  },
  {
   "cell_type": "code",
   "execution_count": 24,
   "id": "e67fccb5-7f81-421b-b22c-c0a1cfa22d1b",
   "metadata": {},
   "outputs": [],
   "source": [
    "with open('test2.txt' , 'w') as f:\n",
    "    f.write(\"My name is manu.\")\n",
    "    f.writelines(['This is line 1\\n', 'This is line 2\\n', 'This is line 3'])"
   ]
  },
  {
   "cell_type": "markdown",
   "id": "17ae0b74-c782-4b9c-a536-e2b8b686338d",
   "metadata": {},
   "source": [
    "write() method takes string as argument and writes it in the file whereas writelines() method takes list of strings as argument and displays them line by line"
   ]
  },
  {
   "cell_type": "code",
   "execution_count": null,
   "id": "541e2505-b2f0-499e-a3ce-96d017844c08",
   "metadata": {},
   "outputs": [],
   "source": []
  }
 ],
 "metadata": {
  "kernelspec": {
   "display_name": "Python 3 (ipykernel)",
   "language": "python",
   "name": "python3"
  },
  "language_info": {
   "codemirror_mode": {
    "name": "ipython",
    "version": 3
   },
   "file_extension": ".py",
   "mimetype": "text/x-python",
   "name": "python",
   "nbconvert_exporter": "python",
   "pygments_lexer": "ipython3",
   "version": "3.10.8"
  }
 },
 "nbformat": 4,
 "nbformat_minor": 5
}
