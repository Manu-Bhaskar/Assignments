{
 "cells": [
  {
   "cell_type": "markdown",
   "id": "c8fdf77f-b397-42a5-bf0b-ee4b0f0ed2a3",
   "metadata": {},
   "source": [
    "**Q1. You are writing code for a company. The requirement of the company is that you create a python function that will check whether the password entered by the user is correct or not. The function should take the password as input and return the string “Valid Password” if the entered password follows the below-given password guidelines else it should return “Invalid Password”.  \n",
    "Note: 1. The Password should contain at least two uppercase letters and at least two lowercase letters.  \n",
    "2. The Password should contain at least a number and three special characters.  \n",
    "3. The length of the password should be 10 characters long.**"
   ]
  },
  {
   "cell_type": "code",
   "execution_count": 2,
   "id": "280ce147-a628-4ce1-90a9-212b28b1a832",
   "metadata": {},
   "outputs": [],
   "source": [
    "def password_check(a):\n",
    "    u = l = n = s = 0\n",
    "    for i in a:\n",
    "        if i.isupper() == True:\n",
    "            u = u + 1\n",
    "        elif i.islower() == True:\n",
    "            l = l + 1\n",
    "        elif i.isnumeric() == True:\n",
    "            n = n + 1\n",
    "        else:\n",
    "            s = s + 1\n",
    "    if u >= 2 and l >= 2 and n >= 1 and s >= 3 and len(a) >= 10:\n",
    "        return \"Valid Password\"\n",
    "    else:\n",
    "        return \"Invalid Password\""
   ]
  },
  {
   "cell_type": "code",
   "execution_count": 4,
   "id": "161233d7-2b4c-41ef-a78f-4e8757d78667",
   "metadata": {},
   "outputs": [
    {
     "name": "stdin",
     "output_type": "stream",
     "text": [
      "Enter your password ABcde#* 1234\n"
     ]
    },
    {
     "data": {
      "text/plain": [
       "'Valid Password'"
      ]
     },
     "execution_count": 4,
     "metadata": {},
     "output_type": "execute_result"
    }
   ],
   "source": [
    "a = input(\"Enter your password\")\n",
    "password_check(a)"
   ]
  },
  {
   "cell_type": "markdown",
   "id": "4136ca9e-c04e-4d81-80e3-ad33bda78fe8",
   "metadata": {},
   "source": [
    "**Q2. Solve the below-given questions using at least one of the following:**  \n",
    "**1. Lambda function**  \n",
    "**2. Filter function**  \n",
    "**3. Map function**  \n",
    "**4. List Comprehension**\n",
    "* Check if the string starts with a particular letter.\n",
    "* Check if the string is numeric.\n",
    "* Sort a list of tuples having fruit names and their quantity.  \n",
    "[(\"mango\",99),(\"orange\",80), (\"grapes\", 1000)]\n",
    "* Find the squares of numbers from 1 to 10.\n",
    "* Find the cube root of numbers from 1 to 10.\n",
    "* Check if a given number is even.\n",
    "* Filter odd numbers from the given list.  \n",
    "[1,2,3,4,5,6,7,8,9,10]\n",
    "* Sort a list of integers into positive and negative integers lists.  \n",
    "[1,2,3,4,5,6,-1,-2,-3,-4,-5,0]"
   ]
  },
  {
   "cell_type": "markdown",
   "id": "9206c938-7868-4369-af86-3957e03f62f0",
   "metadata": {},
   "source": [
    "**Check if the string starts with a particular letter.**"
   ]
  },
  {
   "cell_type": "code",
   "execution_count": 18,
   "id": "5bde7d05-31de-46d6-961b-8b059de24461",
   "metadata": {},
   "outputs": [],
   "source": [
    "a = lambda s : True if s.lower()[0] == 'm' else False"
   ]
  },
  {
   "cell_type": "code",
   "execution_count": 19,
   "id": "3e34ab18-d234-44e1-9eed-2c4ee1c36f90",
   "metadata": {},
   "outputs": [
    {
     "data": {
      "text/plain": [
       "True"
      ]
     },
     "execution_count": 19,
     "metadata": {},
     "output_type": "execute_result"
    }
   ],
   "source": [
    "a('Manu')"
   ]
  },
  {
   "cell_type": "code",
   "execution_count": 20,
   "id": "5c49f30e-2630-4ade-a58e-be1e6c3500ce",
   "metadata": {},
   "outputs": [
    {
     "data": {
      "text/plain": [
       "True"
      ]
     },
     "execution_count": 20,
     "metadata": {},
     "output_type": "execute_result"
    }
   ],
   "source": [
    "a('manu')"
   ]
  },
  {
   "cell_type": "code",
   "execution_count": 21,
   "id": "f3b4cabc-5645-4b6d-b31d-7a77bd613d33",
   "metadata": {},
   "outputs": [
    {
     "data": {
      "text/plain": [
       "False"
      ]
     },
     "execution_count": 21,
     "metadata": {},
     "output_type": "execute_result"
    }
   ],
   "source": [
    "a('bhaskar')"
   ]
  },
  {
   "cell_type": "markdown",
   "id": "31fedd0a-37c8-4d47-a63f-57db7ce8ba10",
   "metadata": {},
   "source": [
    "**Check if the string is numeric.**"
   ]
  },
  {
   "cell_type": "code",
   "execution_count": 22,
   "id": "c3aee368-ef37-43d6-96d8-1cdd686ed4e2",
   "metadata": {},
   "outputs": [],
   "source": [
    "a = lambda s : True if len(s) == len(list(filter(lambda l: True if l.isnumeric() == True else False,list(s)))) else False"
   ]
  },
  {
   "cell_type": "code",
   "execution_count": 23,
   "id": "8b2dba9b-507d-4da8-aeba-ef9cacecf4a6",
   "metadata": {},
   "outputs": [
    {
     "data": {
      "text/plain": [
       "False"
      ]
     },
     "execution_count": 23,
     "metadata": {},
     "output_type": "execute_result"
    }
   ],
   "source": [
    "a('manu')"
   ]
  },
  {
   "cell_type": "code",
   "execution_count": 24,
   "id": "cef1133b-b44e-40de-b0dd-8b0da6b13034",
   "metadata": {},
   "outputs": [
    {
     "data": {
      "text/plain": [
       "False"
      ]
     },
     "execution_count": 24,
     "metadata": {},
     "output_type": "execute_result"
    }
   ],
   "source": [
    "a('1manu')"
   ]
  },
  {
   "cell_type": "code",
   "execution_count": 25,
   "id": "31fffb47-a5c1-4939-8408-0361f5dbb7da",
   "metadata": {},
   "outputs": [
    {
     "data": {
      "text/plain": [
       "True"
      ]
     },
     "execution_count": 25,
     "metadata": {},
     "output_type": "execute_result"
    }
   ],
   "source": [
    "a('1234')"
   ]
  },
  {
   "cell_type": "markdown",
   "id": "18a86c93-728c-449a-9a28-d10a4163dbbb",
   "metadata": {},
   "source": [
    "**Sort a list of tuples having fruit names and their quantity.  \n",
    "[(\"mango\",99),(\"orange\",80), (\"grapes\", 1000)]**"
   ]
  },
  {
   "cell_type": "code",
   "execution_count": 36,
   "id": "236579b1-d08b-4849-bff1-7176c13b5d50",
   "metadata": {},
   "outputs": [],
   "source": [
    "l = [(\"mango\",99),(\"orange\",80), (\"grapes\", 1000)]"
   ]
  },
  {
   "cell_type": "code",
   "execution_count": 46,
   "id": "53812490-887b-44db-bfab-c3742ca3d794",
   "metadata": {},
   "outputs": [
    {
     "data": {
      "text/plain": [
       "[('orange', 80), ('mango', 99), ('grapes', 1000)]"
      ]
     },
     "execution_count": 46,
     "metadata": {},
     "output_type": "execute_result"
    }
   ],
   "source": [
    "d = {v:k for k,v in l}\n",
    "key = list(d.keys())\n",
    "key.sort()\n",
    "l_sorted = {d[i]:i for i in key}.items()\n",
    "list(l_sorted)"
   ]
  },
  {
   "cell_type": "markdown",
   "id": "2f770209-8825-4c40-858b-3c224a6d473f",
   "metadata": {},
   "source": [
    "**Find the squares of numbers from 1 to 10.**"
   ]
  },
  {
   "cell_type": "code",
   "execution_count": 27,
   "id": "8b703a53-3b7e-4763-89cb-055ee4bfecc4",
   "metadata": {},
   "outputs": [
    {
     "data": {
      "text/plain": [
       "[1, 4, 9, 16, 25, 36, 49, 64, 81, 100]"
      ]
     },
     "execution_count": 27,
     "metadata": {},
     "output_type": "execute_result"
    }
   ],
   "source": [
    "[i**2 for i in range(1,11)]"
   ]
  },
  {
   "cell_type": "markdown",
   "id": "5f1fd3e2-eb2d-4066-91fa-0ec9fcce408a",
   "metadata": {},
   "source": [
    "**Find the cube root of numbers from 1 to 10.**"
   ]
  },
  {
   "cell_type": "code",
   "execution_count": 28,
   "id": "357e4c46-35f5-420b-a5f9-0d996ad14971",
   "metadata": {},
   "outputs": [
    {
     "data": {
      "text/plain": [
       "[1.0,\n",
       " 1.2599210498948732,\n",
       " 1.4422495703074083,\n",
       " 1.5874010519681994,\n",
       " 1.7099759466766968,\n",
       " 1.8171205928321397,\n",
       " 1.912931182772389,\n",
       " 2.0,\n",
       " 2.080083823051904,\n",
       " 2.154434690031884]"
      ]
     },
     "execution_count": 28,
     "metadata": {},
     "output_type": "execute_result"
    }
   ],
   "source": [
    "[i**(1/3) for i in range(1,11)]"
   ]
  },
  {
   "cell_type": "markdown",
   "id": "9f357973-94c8-4965-8e21-41ecd30e7684",
   "metadata": {},
   "source": [
    "**Check if a given number is even**"
   ]
  },
  {
   "cell_type": "code",
   "execution_count": 29,
   "id": "0705b9bd-b1d6-43f4-800d-b9276f4ea5a9",
   "metadata": {},
   "outputs": [],
   "source": [
    "b = lambda n : print(\"Even\") if n % 2 == 0 else print(\"Not Even\")"
   ]
  },
  {
   "cell_type": "code",
   "execution_count": 30,
   "id": "6eddf9a8-7189-4a39-b376-2f0ebb06f0bf",
   "metadata": {},
   "outputs": [
    {
     "name": "stdout",
     "output_type": "stream",
     "text": [
      "Even\n"
     ]
    }
   ],
   "source": [
    "b(10)"
   ]
  },
  {
   "cell_type": "code",
   "execution_count": 31,
   "id": "d7b5b5a1-2f9f-483b-a118-d22dfd0ee265",
   "metadata": {},
   "outputs": [
    {
     "name": "stdout",
     "output_type": "stream",
     "text": [
      "Not Even\n"
     ]
    }
   ],
   "source": [
    "b(7)"
   ]
  },
  {
   "cell_type": "markdown",
   "id": "3b7fc142-4f77-4b50-a5ce-56087ad7b0ba",
   "metadata": {},
   "source": [
    "**Filter odd numbers from the given list.  \n",
    "[1,2,3,4,5,6,7,8,9,10]**"
   ]
  },
  {
   "cell_type": "code",
   "execution_count": 32,
   "id": "6a62bc52-004e-46d3-a02e-8fc2784ef926",
   "metadata": {},
   "outputs": [
    {
     "data": {
      "text/plain": [
       "[1, 3, 5, 7, 9]"
      ]
     },
     "execution_count": 32,
     "metadata": {},
     "output_type": "execute_result"
    }
   ],
   "source": [
    "l = [1,2,3,4,5,6,7,8,9,10]\n",
    "list(filter(lambda n : True if n % 2 != 0 else False , l))"
   ]
  },
  {
   "cell_type": "markdown",
   "id": "df9f8c82-3805-4444-a028-93b96bb8c171",
   "metadata": {},
   "source": [
    "**Sort a list of integers into positive and negative integers lists.  \n",
    "[1,2,3,4,5,6,-1,-2,-3,-4,-5,0]**"
   ]
  },
  {
   "cell_type": "code",
   "execution_count": 33,
   "id": "86aebbd3-20b4-4c35-a2bd-c7bd3e703ddd",
   "metadata": {},
   "outputs": [],
   "source": [
    "l = [1,2,3,4,5,6,-1,-2,-3,-4,-5,0]\n",
    "l_positive = list(filter(lambda l : True if l>0 else False , l))\n",
    "l_negative = list(filter(lambda l : True if l<0 else False , l))"
   ]
  },
  {
   "cell_type": "code",
   "execution_count": 34,
   "id": "3e6243e7-0059-404d-97be-1a6f09d66134",
   "metadata": {},
   "outputs": [
    {
     "data": {
      "text/plain": [
       "[1, 2, 3, 4, 5, 6]"
      ]
     },
     "execution_count": 34,
     "metadata": {},
     "output_type": "execute_result"
    }
   ],
   "source": [
    "l_positive"
   ]
  },
  {
   "cell_type": "code",
   "execution_count": 35,
   "id": "bf1408d9-ab07-43f3-aa15-05c87eea4cfe",
   "metadata": {},
   "outputs": [
    {
     "data": {
      "text/plain": [
       "[-1, -2, -3, -4, -5]"
      ]
     },
     "execution_count": 35,
     "metadata": {},
     "output_type": "execute_result"
    }
   ],
   "source": [
    "l_negative"
   ]
  },
  {
   "cell_type": "code",
   "execution_count": null,
   "id": "72a2edaa-fa53-433e-9f50-a855db5ba73d",
   "metadata": {},
   "outputs": [],
   "source": []
  }
 ],
 "metadata": {
  "kernelspec": {
   "display_name": "Python 3 (ipykernel)",
   "language": "python",
   "name": "python3"
  },
  "language_info": {
   "codemirror_mode": {
    "name": "ipython",
    "version": 3
   },
   "file_extension": ".py",
   "mimetype": "text/x-python",
   "name": "python",
   "nbconvert_exporter": "python",
   "pygments_lexer": "ipython3",
   "version": "3.10.8"
  }
 },
 "nbformat": 4,
 "nbformat_minor": 5
}
