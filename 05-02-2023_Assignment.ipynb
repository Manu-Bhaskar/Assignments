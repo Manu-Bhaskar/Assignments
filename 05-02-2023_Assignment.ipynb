{
 "cells": [
  {
   "cell_type": "markdown",
   "id": "d4cd3ad3-a9df-4577-9818-01651b3bbabe",
   "metadata": {},
   "source": [
    "**Q1. Explain Class and Object with respect to Object-Oriented Programming. Give a suitable example.**"
   ]
  },
  {
   "cell_type": "markdown",
   "id": "ca265039-7292-4011-86ce-02e14c04e2fe",
   "metadata": {},
   "source": [
    "Class is a classification or charecterisation of a real world entity. Any real world entity can be classified into number of classes based on charecteristics and properties it possesses. In Object-Oriented Programming class refers to blueprint of a real world entity.  \n",
    "Object is the real world entity which is being referred above. An object has certain properties which are clearly defined. The existance of these properties are what creates a distinct class.  \n",
    "For example a class called car has different properties such as model, color, etc. A specific object belonging to this class will have defined properties like model = 'sedan' , color = 'red'"
   ]
  },
  {
   "cell_type": "code",
   "execution_count": 1,
   "id": "9f75b767-247a-4cc9-b6d0-54303e187e32",
   "metadata": {},
   "outputs": [],
   "source": [
    "class car:\n",
    "    def __init__(self , color , model):\n",
    "        self.color = color\n",
    "        self.model = model\n",
    "    def display_info(self):\n",
    "        return self.color , self.model\n",
    "    "
   ]
  },
  {
   "cell_type": "code",
   "execution_count": 2,
   "id": "b199df53-418b-4ad8-9e12-7cc51d0577e7",
   "metadata": {},
   "outputs": [
    {
     "name": "stdout",
     "output_type": "stream",
     "text": [
      "('red', 'hatch back')\n"
     ]
    }
   ],
   "source": [
    "alto_800 = car('red' , 'hatch back')\n",
    "print(alto_800.display_info())"
   ]
  },
  {
   "cell_type": "markdown",
   "id": "5a44abff-ed33-40d1-9f3f-db1ed0c7e23b",
   "metadata": {},
   "source": [
    "**Q2. Name the four pillars of OOPs.**"
   ]
  },
  {
   "cell_type": "markdown",
   "id": "f1221cdf-72ea-4113-846b-e3739b9fd286",
   "metadata": {},
   "source": [
    "Four pillars of OOPs are:-  \n",
    "* Polymorphism\n",
    "* Inheritance\n",
    "* Abstraction\n",
    "* Encapsulation"
   ]
  },
  {
   "cell_type": "markdown",
   "id": "3ea16332-f819-440e-92fc-408fa9e2ebb5",
   "metadata": {},
   "source": [
    "**Q3. Explain why the __init__() function is used. Give a suitable example.**"
   ]
  },
  {
   "cell_type": "markdown",
   "id": "d10ffc62-0cbd-4354-b107-51b3b6eb9eba",
   "metadata": {},
   "source": [
    "init() function works as a constuctor in OOPs in python. A Constructor is used to initialise a object.  \n",
    "init() function is to take parameter or arguments during cration of object. Even without init() function python makes a default constructor (a function which does not take any arguments)"
   ]
  },
  {
   "cell_type": "markdown",
   "id": "fe549d87-1dfa-4419-93e2-775df5e6e62e",
   "metadata": {},
   "source": [
    "**Q4. Why self is used in OOPs?**"
   ]
  },
  {
   "cell_type": "markdown",
   "id": "69a3b098-ceab-4659-8d00-f36a15a59c58",
   "metadata": {},
   "source": [
    "'self' is used in python to make a refernce to instance or object or variable. It can be used to store values taken during the creation of object and store in a object specific variable, which only thet object can access. It can alse be used when we need to refer the object in some class operations.  \n",
    "In python while creation of object or calling of a class method the object itself is passed to the method first even if we do not specify a argument in function definition. That is why we need to give 'self' as first argument in every function definition. The variable name is not fixed to 'self', and can be anything"
   ]
  },
  {
   "cell_type": "markdown",
   "id": "7b92e456-816a-4405-8880-7ce7e899badb",
   "metadata": {},
   "source": [
    "**Q5. What is inheritance? Give an example for each type of inheritance.**"
   ]
  },
  {
   "cell_type": "markdown",
   "id": "e3210c5d-8098-488a-b0d8-2fd37cb73759",
   "metadata": {},
   "source": [
    "Inheritance is the process in which one class inherits properties and functions from another class. There are different types of inheritance in python.  \n",
    "* Single Inheritance\n",
    "* Multilevel Inheritance\n",
    "* Multiple Inheritance\n",
    "* Hierarchial Inheritance\n",
    "* Hybrid Inheritance"
   ]
  }
 ],
 "metadata": {
  "kernelspec": {
   "display_name": "Python 3 (ipykernel)",
   "language": "python",
   "name": "python3"
  },
  "language_info": {
   "codemirror_mode": {
    "name": "ipython",
    "version": 3
   },
   "file_extension": ".py",
   "mimetype": "text/x-python",
   "name": "python",
   "nbconvert_exporter": "python",
   "pygments_lexer": "ipython3",
   "version": "3.10.8"
  }
 },
 "nbformat": 4,
 "nbformat_minor": 5
}
