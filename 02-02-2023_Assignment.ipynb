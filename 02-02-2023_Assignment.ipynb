{
 "cells": [
  {
   "cell_type": "markdown",
   "id": "fe5b2dec-cc7a-4188-b6e3-c1983ddfb68b",
   "metadata": {},
   "source": [
    "ANS 1:"
   ]
  },
  {
   "cell_type": "markdown",
   "id": "6c3ae7f4-35e2-4027-9ac6-1c506c2dc049",
   "metadata": {},
   "source": [
    "We use for loop when we know how many iterations are to be done beforehand or to iterate through a collection of data like list, tuple, set etc. For Example"
   ]
  },
  {
   "cell_type": "code",
   "execution_count": 1,
   "id": "4cfa8abd-966e-43ec-b157-f223d47368d2",
   "metadata": {},
   "outputs": [
    {
     "name": "stdout",
     "output_type": "stream",
     "text": [
      "0\n",
      "1\n",
      "2\n",
      "3\n",
      "4\n",
      "5\n",
      "6\n",
      "7\n",
      "8\n",
      "9\n"
     ]
    }
   ],
   "source": [
    "for i in range(10):\n",
    "    print(i)"
   ]
  },
  {
   "cell_type": "markdown",
   "id": "68836141-d2d1-4628-b663-71fd47831d06",
   "metadata": {},
   "source": [
    "We use while loop when we don't know the number of iterations but a condition has to be fulfilled. While loop can also be used\n",
    "when we know the number of iterations. For Example"
   ]
  },
  {
   "cell_type": "code",
   "execution_count": 4,
   "id": "de9709af-84c5-477a-ae88-015b5b8eed19",
   "metadata": {},
   "outputs": [
    {
     "name": "stdin",
     "output_type": "stream",
     "text": [
      "Eneter a number 123456\n"
     ]
    },
    {
     "name": "stdout",
     "output_type": "stream",
     "text": [
      "The number of digits is 6\n"
     ]
    }
   ],
   "source": [
    "n = int(input(\"Eneter a number\"))\n",
    "c = 0\n",
    "while n != 0:\n",
    "    c = c + 1\n",
    "    n = int(n / 10)\n",
    "print(\"The number of digits is\",c)"
   ]
  },
  {
   "cell_type": "markdown",
   "id": "0adb1c28-f3bc-49da-b5d8-c477cea2b730",
   "metadata": {},
   "source": [
    "ANS 2:"
   ]
  },
  {
   "cell_type": "code",
   "execution_count": 8,
   "id": "69d69894-8248-4e8b-8f95-61a2a9b43ae0",
   "metadata": {},
   "outputs": [
    {
     "name": "stdout",
     "output_type": "stream",
     "text": [
      "Sum of first 10 natural numbers: 55\n",
      "Product of first 10 natural numbers: 3628800\n"
     ]
    }
   ],
   "source": [
    "p = 1\n",
    "s = 0\n",
    "for i in range(1,11):\n",
    "    s = s + i\n",
    "    p = p * i\n",
    "print(\"Sum of first 10 natural numbers:\",s)\n",
    "print(\"Product of first 10 natural numbers:\",p)"
   ]
  },
  {
   "cell_type": "code",
   "execution_count": 9,
   "id": "8473ea42-fe38-4bc5-98dd-d1e7d6019ec3",
   "metadata": {},
   "outputs": [
    {
     "name": "stdout",
     "output_type": "stream",
     "text": [
      "Sum of first 10 natural numbers: 55\n",
      "Product of first 10 natural numbers: 3628800\n"
     ]
    }
   ],
   "source": [
    "p = 1\n",
    "s = 0\n",
    "i = 1\n",
    "while i <= 10:\n",
    "    s = s + i\n",
    "    p = p * i\n",
    "    i = i + 1\n",
    "print(\"Sum of first 10 natural numbers:\",s)\n",
    "print(\"Product of first 10 natural numbers:\",p)"
   ]
  },
  {
   "cell_type": "markdown",
   "id": "0fb3ea9d-a3d3-4e81-96a9-4e268c89a5e9",
   "metadata": {},
   "source": [
    "ANS 3:"
   ]
  },
  {
   "cell_type": "code",
   "execution_count": 12,
   "id": "5f317101-bc45-4227-afa1-fc718e9673a6",
   "metadata": {},
   "outputs": [
    {
     "name": "stdin",
     "output_type": "stream",
     "text": [
      "Eneter the units of electricity consumed 310\n"
     ]
    },
    {
     "name": "stdout",
     "output_type": "stream",
     "text": [
      "Electricity bill is: 2250.0\n"
     ]
    }
   ],
   "source": [
    "u = int(input(\"Eneter the units of electricity consumed\"))\n",
    "if u <= 100 and u >= 0:\n",
    "    b = 4.5 * u\n",
    "    print(\"Electricity bill is:\",b)\n",
    "elif u > 100 and u <= 200:\n",
    "    b = ((u-100)*6) + (100*4.5)\n",
    "    print(\"Electricity bill is:\",b)\n",
    "elif u > 200 and u <= 300:\n",
    "    b = ((u-200)*10) + (100*4.5) + (100*6)\n",
    "    print(\"Electricity bill is:\",b)\n",
    "elif u > 300:\n",
    "    b = ((u-300)*20) + (100*4.5) + (100*6) + (100 * 10)\n",
    "    print(\"Electricity bill is:\",b)\n",
    "else:\n",
    "    print(\"Invalid input\")"
   ]
  },
  {
   "cell_type": "markdown",
   "id": "1fcd6624-67ae-4cb1-8e5e-0266d0c1d77e",
   "metadata": {},
   "source": [
    "ANS 4:"
   ]
  },
  {
   "cell_type": "code",
   "execution_count": 13,
   "id": "2caefda3-d4fe-43fa-8d82-b8a70591aa6f",
   "metadata": {},
   "outputs": [],
   "source": [
    "l = []\n",
    "for i in range(1,101):\n",
    "    l.append(i)"
   ]
  },
  {
   "cell_type": "code",
   "execution_count": 15,
   "id": "a6f1e119-1f15-481b-9742-b96cf2ce52a1",
   "metadata": {},
   "outputs": [
    {
     "name": "stdout",
     "output_type": "stream",
     "text": [
      "Resultant list is [2, 4, 5, 6, 8, 10, 12, 14, 15, 16, 18, 20, 22, 24, 25, 26, 28, 30, 32, 34, 35, 36, 38, 40, 42, 44, 45, 46, 48, 50, 52, 54, 55, 56, 58, 60, 62, 64, 65, 66, 68, 70, 72, 74, 75, 76, 78, 80, 82, 84, 85, 86, 88, 90, 92, 94, 95, 96, 98, 100]\n"
     ]
    }
   ],
   "source": [
    "#for loop\n",
    "r = []\n",
    "for i in l:\n",
    "    if (i**3)%4 == 0 or (i**3)%5 == 0:\n",
    "        r.append(i)\n",
    "print(\"Resultant list is\",r)"
   ]
  },
  {
   "cell_type": "code",
   "execution_count": 17,
   "id": "a7ec264e-99f2-4cbd-8835-f213a9b5610c",
   "metadata": {},
   "outputs": [
    {
     "name": "stdout",
     "output_type": "stream",
     "text": [
      "Resultant list is [2, 4, 5, 6, 8, 10, 12, 14, 15, 16, 18, 20, 22, 24, 25, 26, 28, 30, 32, 34, 35, 36, 38, 40, 42, 44, 45, 46, 48, 50, 52, 54, 55, 56, 58, 60, 62, 64, 65, 66, 68, 70, 72, 74, 75, 76, 78, 80, 82, 84, 85, 86, 88, 90, 92, 94, 95, 96, 98, 100]\n"
     ]
    }
   ],
   "source": [
    "#while loop\n",
    "r = []\n",
    "i = 1\n",
    "while i <= 100:\n",
    "    if (i**3)%4 == 0 or (i**3)%5 == 0:\n",
    "        r.append(i)\n",
    "    i = i + 1\n",
    "print(\"Resultant list is\",r)"
   ]
  },
  {
   "cell_type": "markdown",
   "id": "790a98c0-1fbe-4510-9fe0-120824ab12b7",
   "metadata": {},
   "source": [
    "ANS 5:"
   ]
  },
  {
   "cell_type": "code",
   "execution_count": 22,
   "id": "82404645-1d51-4e89-a09d-96efc6a0e59c",
   "metadata": {},
   "outputs": [
    {
     "name": "stdout",
     "output_type": "stream",
     "text": [
      "Count of a in given string is 4\n",
      "Count of e in given string is 3\n",
      "Count of i in given string is 3\n",
      "Count of o in given string is 2\n",
      "Count of u in given string is 0\n"
     ]
    }
   ],
   "source": [
    "s = 'aeiou'\n",
    "s1 = \"I want to become a data scientist\"\n",
    "for i in s:\n",
    "    c = 0\n",
    "    for j in s1.lower():\n",
    "        if i == j:\n",
    "            c = c + 1\n",
    "    print(f\"Count of {i} in given string is {c}\")"
   ]
  }
 ],
 "metadata": {
  "kernelspec": {
   "display_name": "Python 3 (ipykernel)",
   "language": "python",
   "name": "python3"
  },
  "language_info": {
   "codemirror_mode": {
    "name": "ipython",
    "version": 3
   },
   "file_extension": ".py",
   "mimetype": "text/x-python",
   "name": "python",
   "nbconvert_exporter": "python",
   "pygments_lexer": "ipython3",
   "version": "3.10.8"
  }
 },
 "nbformat": 4,
 "nbformat_minor": 5
}
