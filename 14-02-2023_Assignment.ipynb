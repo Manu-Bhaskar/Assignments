{
 "cells": [
  {
   "cell_type": "markdown",
   "id": "dd4da68e-025e-49aa-a3f3-67f6ce6b02bc",
   "metadata": {},
   "source": [
    "**Q1. What is multithreading in python? Why is it used? Name the module used to handle threads in python.**"
   ]
  },
  {
   "cell_type": "markdown",
   "id": "dd5e4ee7-90ae-4d79-8b21-a6b38a4bb3e4",
   "metadata": {},
   "source": [
    "Multithreading is the ability of the CPU to execute multiple threads concurrently. Here 'thread' refers to smallest piece of code a processor or core can execute.  \n",
    "It helps in executing a piece of code with multiple inputs simultaneously.  \n",
    "'threading' is used to handle threads in python"
   ]
  },
  {
   "cell_type": "markdown",
   "id": "1b1fab58-68e8-4027-b219-68064beecd2f",
   "metadata": {},
   "source": [
    "**Q2. Why threading module used? Write the use of the following functions:**  \n",
    "1. **activeCount()**  \n",
    "2. **currentThread()**  \n",
    "3. **enumerate()**"
   ]
  },
  {
   "cell_type": "markdown",
   "id": "26be87bc-ba68-442b-a9e5-4c0cf9241fba",
   "metadata": {},
   "source": [
    "1. 'activeCount()' returns number of threads are currently active.  \n",
    "2. 'currentThread()' returns the current Thread object, corresponding to the caller's thread of control. This function is now deprecated, we use current_thread() instead.  \n",
    "3. 'enumerate()' returns a list of all Thread objects currently alive. The list includes daemonic threads, dummy thread objects created by current_thread(), and the main thread. It excludes terminated threads and threads that have not yet been started."
   ]
  },
  {
   "cell_type": "markdown",
   "id": "e28d0af0-d5a3-4041-9629-8a070d3bf347",
   "metadata": {},
   "source": [
    "**Q3. Explain the following functions:**\n",
    "1. **run()**\n",
    "2. **start()**\n",
    "3. **join()**  \n",
    "4. **is Alive()**"
   ]
  },
  {
   "cell_type": "code",
   "execution_count": 1,
   "id": "732568eb-c466-409a-a64f-176b03840e7c",
   "metadata": {},
   "outputs": [],
   "source": [
    "import threading"
   ]
  },
  {
   "cell_type": "markdown",
   "id": "b156078f-b05f-4021-83d1-05ff00c5778c",
   "metadata": {},
   "source": [
    "'run()' method represents threads activity i.e. it displays result of a threads final execution of callable object given in target with argument pulled from args or kwargs parameters."
   ]
  },
  {
   "cell_type": "code",
   "execution_count": 25,
   "id": "e66b0c46-e409-4e26-be89-682fd27c0ec6",
   "metadata": {},
   "outputs": [],
   "source": [
    "t = threading.Thread(target = lambda x : print(x**2), args = (10,))\n",
    "t1 = threading.Thread(target = lambda x : print(x**3), args = (10,))"
   ]
  },
  {
   "cell_type": "code",
   "execution_count": 6,
   "id": "b3e6981c-6ca4-44c8-b57c-166a5674a0fa",
   "metadata": {},
   "outputs": [
    {
     "name": "stdout",
     "output_type": "stream",
     "text": [
      "100\n"
     ]
    }
   ],
   "source": [
    "t.run()"
   ]
  },
  {
   "cell_type": "markdown",
   "id": "70f02afe-4122-4092-a8c7-bea4bdd9a6ee",
   "metadata": {},
   "source": [
    "'start()' method starts the execution of the thread"
   ]
  },
  {
   "cell_type": "code",
   "execution_count": 9,
   "id": "8d7ddbb0-cdae-4393-8200-028de23bbc74",
   "metadata": {},
   "outputs": [
    {
     "name": "stdout",
     "output_type": "stream",
     "text": [
      "100\n"
     ]
    }
   ],
   "source": [
    "t.start()"
   ]
  },
  {
   "cell_type": "markdown",
   "id": "9d4f1e97-888e-4b8f-b0fe-e0669e27c584",
   "metadata": {},
   "source": [
    "'join()' method blocks the calling thread or main thread until the thread whose 'join()' is called"
   ]
  },
  {
   "cell_type": "code",
   "execution_count": 26,
   "id": "1a816237-6d44-430b-b5c7-bff211be75f5",
   "metadata": {},
   "outputs": [
    {
     "name": "stdout",
     "output_type": "stream",
     "text": [
      "100\n",
      "1000\n"
     ]
    }
   ],
   "source": [
    "t.start()\n",
    "t.join()\n",
    "t1.start()"
   ]
  },
  {
   "cell_type": "markdown",
   "id": "2c968390-6529-4970-957c-8ed65aa95754",
   "metadata": {},
   "source": [
    "'is_alive()' method tells us that if a thread is alive or not"
   ]
  },
  {
   "cell_type": "code",
   "execution_count": 30,
   "id": "d636ef87-6512-4f09-9c2a-7dcd10d4dce8",
   "metadata": {},
   "outputs": [
    {
     "name": "stdout",
     "output_type": "stream",
     "text": [
      "False\n",
      "True\n"
     ]
    }
   ],
   "source": [
    "print(t.is_alive())\n",
    "print(threading.current_thread().is_alive())"
   ]
  },
  {
   "cell_type": "markdown",
   "id": "6d35b087-4b2a-480b-af20-1c072de1fb8a",
   "metadata": {},
   "source": [
    "**Q4. Write a python program to create two threads. Thread one must print the list of squares and thread two must print the list of cubes.**"
   ]
  },
  {
   "cell_type": "code",
   "execution_count": 47,
   "id": "c4f520bf-91de-48cb-bc62-231dbe613f65",
   "metadata": {},
   "outputs": [],
   "source": [
    "def square_list(a):\n",
    "    sq = list(map(lambda x : x**2 , a))\n",
    "    print(sq)"
   ]
  },
  {
   "cell_type": "code",
   "execution_count": 48,
   "id": "afdeb710-d7b2-4229-bb9e-a91256b323a3",
   "metadata": {},
   "outputs": [],
   "source": [
    "def cube_list(a):\n",
    "    cu = list(map(lambda x : x**3 , a))\n",
    "    print(cu)"
   ]
  },
  {
   "cell_type": "code",
   "execution_count": 49,
   "id": "a93b5b61-1fa6-42ed-9681-140970cabefe",
   "metadata": {},
   "outputs": [],
   "source": [
    "t1 = threading.Thread(target = square_list , args = ([i for i in range(1,6)],))\n",
    "t2 = threading.Thread(target = cube_list , args = ([i for i in range(1,6)],))"
   ]
  },
  {
   "cell_type": "code",
   "execution_count": 50,
   "id": "4c10d86b-3e10-4b48-ae83-d943f19a1547",
   "metadata": {},
   "outputs": [
    {
     "name": "stdout",
     "output_type": "stream",
     "text": [
      "[1, 4, 9, 16, 25]\n",
      "[1, 8, 27, 64, 125]\n"
     ]
    }
   ],
   "source": [
    "t1.start()\n",
    "t2.start()"
   ]
  },
  {
   "cell_type": "markdown",
   "id": "33041638-b40d-464d-b78c-7f3a93ceaef4",
   "metadata": {},
   "source": [
    "**Q5. State advantages and disadvantages of multithreading.**"
   ]
  },
  {
   "cell_type": "markdown",
   "id": "24b61b93-ce7f-4f41-9d25-fd1e57a93239",
   "metadata": {},
   "source": [
    "Some advantages of multithreading are :-\n",
    "* It improves the overall performance of the code\n",
    "* Better recource utilization is done\n",
    "* It increases the concurrency of the code i.e one thread may wait for i/o but another thread would be running  "
   ]
  },
  {
   "cell_type": "markdown",
   "id": "4b64675d-3245-4769-ab61-de142ac8c89e",
   "metadata": {},
   "source": [
    "Some disadvantages of multithreading are :-\n",
    "* Increase in complexity of code \n",
    "* Debugging becomes harder as a consequence of complex code\n",
    "* Memory available is reduced "
   ]
  },
  {
   "cell_type": "markdown",
   "id": "fa4f0784-63f3-4c62-944c-2ec6bd7f26fc",
   "metadata": {},
   "source": [
    "**Q6. Explain deadlocks and race conditions.**"
   ]
  },
  {
   "cell_type": "markdown",
   "id": "3ffa4bdd-b457-49c2-bab7-e89c7e6c2a47",
   "metadata": {},
   "source": [
    "Deadlock occurs when two or more threads wait for a condition that may naver occur.  \n",
    "Race condition occurs when two or more threads try to access a shared resource or variable."
   ]
  }
 ],
 "metadata": {
  "kernelspec": {
   "display_name": "Python 3 (ipykernel)",
   "language": "python",
   "name": "python3"
  },
  "language_info": {
   "codemirror_mode": {
    "name": "ipython",
    "version": 3
   },
   "file_extension": ".py",
   "mimetype": "text/x-python",
   "name": "python",
   "nbconvert_exporter": "python",
   "pygments_lexer": "ipython3",
   "version": "3.10.8"
  }
 },
 "nbformat": 4,
 "nbformat_minor": 5
}
