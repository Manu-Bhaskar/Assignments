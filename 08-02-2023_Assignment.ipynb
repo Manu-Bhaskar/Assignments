{
 "cells": [
  {
   "cell_type": "markdown",
   "id": "010f43e9-eceb-499e-82fc-e7545a06da64",
   "metadata": {},
   "source": [
    "**Q1. What is Abstraction in OOps? Explain with an example.**"
   ]
  },
  {
   "cell_type": "markdown",
   "id": "0dfdf45d-a090-440e-abf1-60a6cb356ebb",
   "metadata": {},
   "source": [
    "Abstraction refers to the process by which hide implementation of methods. In other words the user does not need to underestand how a method is implemented"
   ]
  },
  {
   "cell_type": "code",
   "execution_count": 1,
   "id": "f54895f5-4a2c-4517-9157-0ac0a1be55e4",
   "metadata": {},
   "outputs": [],
   "source": [
    "import abc\n",
    "class test:\n",
    "    @abc.abstractmethod\n",
    "    def class_meth(self):\n",
    "        pass"
   ]
  },
  {
   "cell_type": "code",
   "execution_count": 6,
   "id": "b9a932cb-4b9f-4170-8338-5685c7d0eaf8",
   "metadata": {},
   "outputs": [],
   "source": [
    "class real(test):\n",
    "    def class_meth(self):\n",
    "        return \"This is a real class\""
   ]
  },
  {
   "cell_type": "code",
   "execution_count": 7,
   "id": "70358989-1de7-4be2-bb18-fe61e5153cd4",
   "metadata": {},
   "outputs": [],
   "source": [
    "r = real()"
   ]
  },
  {
   "cell_type": "code",
   "execution_count": 9,
   "id": "1c05a0d7-da5f-4840-8388-16040387c65a",
   "metadata": {},
   "outputs": [
    {
     "data": {
      "text/plain": [
       "'This is a real class'"
      ]
     },
     "execution_count": 9,
     "metadata": {},
     "output_type": "execute_result"
    }
   ],
   "source": [
    "r.class_meth()"
   ]
  },
  {
   "cell_type": "markdown",
   "id": "082b8a80-a7df-4904-979c-ef365c9466ad",
   "metadata": {},
   "source": [
    "**Q2. Differentiate between Abstraction and Encapsulation. Explain with an example.**"
   ]
  },
  {
   "cell_type": "markdown",
   "id": "ec5aaefe-c119-4454-a1fc-c4a2df2f67cc",
   "metadata": {},
   "source": [
    "Abstraction is used to hide the implementation of methods and reduce complexibility of program.  \n",
    "Encapsulation is used to hide data itself and create a sense of privacy."
   ]
  },
  {
   "cell_type": "code",
   "execution_count": 11,
   "id": "7a9a0c77-2ff5-48ac-af59-9d28844ee983",
   "metadata": {},
   "outputs": [],
   "source": [
    "# Abstaction\n",
    "import abc\n",
    "class abstract:\n",
    "    @abc.abstractmethod\n",
    "    def meth(self):\n",
    "        pass"
   ]
  },
  {
   "cell_type": "code",
   "execution_count": 12,
   "id": "a413c13c-6620-4fbe-9783-8cbe87f3b724",
   "metadata": {},
   "outputs": [],
   "source": [
    "class test(abstract):\n",
    "    def meth(self):\n",
    "        return \"This is implementation of abstraction\""
   ]
  },
  {
   "cell_type": "markdown",
   "id": "9aaae8f4-4265-4daf-b3d6-3f2406057a7f",
   "metadata": {},
   "source": [
    "In above code the child class is implementing the abstract class 'abstract', which acts like a blueprint for the child class"
   ]
  },
  {
   "cell_type": "code",
   "execution_count": 14,
   "id": "3fe542e8-596d-4ff2-8317-d3bd0155e1ba",
   "metadata": {},
   "outputs": [],
   "source": [
    "# encapsulation\n",
    "class encap:\n",
    "    def __init__(self , a):\n",
    "        self.__a = a"
   ]
  },
  {
   "cell_type": "code",
   "execution_count": 15,
   "id": "00509a31-e8ee-48a3-9d18-701824df7883",
   "metadata": {},
   "outputs": [],
   "source": [
    "a = encap(10)"
   ]
  },
  {
   "cell_type": "code",
   "execution_count": 16,
   "id": "262d5272-2159-4550-8189-01087af19f65",
   "metadata": {},
   "outputs": [
    {
     "ename": "AttributeError",
     "evalue": "'encap' object has no attribute 'a'",
     "output_type": "error",
     "traceback": [
      "\u001b[0;31m---------------------------------------------------------------------------\u001b[0m",
      "\u001b[0;31mAttributeError\u001b[0m                            Traceback (most recent call last)",
      "Cell \u001b[0;32mIn[16], line 1\u001b[0m\n\u001b[0;32m----> 1\u001b[0m \u001b[43ma\u001b[49m\u001b[38;5;241;43m.\u001b[39;49m\u001b[43ma\u001b[49m\n",
      "\u001b[0;31mAttributeError\u001b[0m: 'encap' object has no attribute 'a'"
     ]
    }
   ],
   "source": [
    "a.a"
   ]
  },
  {
   "cell_type": "markdown",
   "id": "3d6e518a-57ce-4318-8bcf-6a31e059a6ef",
   "metadata": {},
   "source": [
    "In above code we cannot access the varible because it is private."
   ]
  },
  {
   "cell_type": "markdown",
   "id": "3a17db0b-7b95-4f78-ab57-fda11ae24f1c",
   "metadata": {},
   "source": [
    "**Q3. What is abc module in python? Why is it used?**"
   ]
  },
  {
   "cell_type": "markdown",
   "id": "ba760700-e240-4ad7-94b0-0be983c22513",
   "metadata": {},
   "source": [
    "abc module in python helps in implementation of abstraction.  \n",
    "It is used to create abstract classes"
   ]
  },
  {
   "cell_type": "markdown",
   "id": "56733b89-b751-4f98-a879-5e64ab76c690",
   "metadata": {},
   "source": [
    "**Q4. How can we achieve data abstraction?**"
   ]
  },
  {
   "cell_type": "code",
   "execution_count": 17,
   "id": "4b049742-7412-4c86-91d3-fd33f490dab0",
   "metadata": {},
   "outputs": [],
   "source": [
    "import abc\n",
    "class abstract:\n",
    "    @abc.abstractmethod\n",
    "    def meth(self):\n",
    "        pass"
   ]
  },
  {
   "cell_type": "code",
   "execution_count": 18,
   "id": "b85032d7-2bcc-4863-b4ad-677675d452ce",
   "metadata": {},
   "outputs": [],
   "source": [
    "class test(abstract):\n",
    "    def meth(self):\n",
    "        return \"This is implementation of abstraction\""
   ]
  },
  {
   "cell_type": "markdown",
   "id": "3365830b-298c-4df7-8df8-c024c11b024f",
   "metadata": {},
   "source": [
    "**Q5. Can we create an instance of an abstract class? Explain your answer.**"
   ]
  },
  {
   "cell_type": "markdown",
   "id": "7e20ea3b-6cee-4737-8743-52cec8bdf32b",
   "metadata": {},
   "source": [
    "We can create instances of abstract class because there may be some methods which are not abstract."
   ]
  },
  {
   "cell_type": "code",
   "execution_count": 21,
   "id": "4565c736-86df-4039-b936-57c095ff8e6e",
   "metadata": {},
   "outputs": [],
   "source": [
    "import abc\n",
    "class abstract:\n",
    "    @abc.abstractmethod\n",
    "    def meth(self):\n",
    "        pass\n",
    "    def print_hello(self):\n",
    "        return \"Hello\""
   ]
  },
  {
   "cell_type": "code",
   "execution_count": 22,
   "id": "05d97898-4752-487f-b06e-9cf5d4b8c873",
   "metadata": {},
   "outputs": [],
   "source": [
    "ab = abstract()"
   ]
  },
  {
   "cell_type": "code",
   "execution_count": 23,
   "id": "01bc834a-8f21-48b6-acd0-9c7f462ffe3d",
   "metadata": {},
   "outputs": [
    {
     "data": {
      "text/plain": [
       "'Hello'"
      ]
     },
     "execution_count": 23,
     "metadata": {},
     "output_type": "execute_result"
    }
   ],
   "source": [
    "ab.print_hello()"
   ]
  }
 ],
 "metadata": {
  "kernelspec": {
   "display_name": "Python 3 (ipykernel)",
   "language": "python",
   "name": "python3"
  },
  "language_info": {
   "codemirror_mode": {
    "name": "ipython",
    "version": 3
   },
   "file_extension": ".py",
   "mimetype": "text/x-python",
   "name": "python",
   "nbconvert_exporter": "python",
   "pygments_lexer": "ipython3",
   "version": "3.10.8"
  }
 },
 "nbformat": 4,
 "nbformat_minor": 5
}
