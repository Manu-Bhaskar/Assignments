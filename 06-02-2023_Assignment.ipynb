{
 "cells": [
  {
   "cell_type": "markdown",
   "id": "fdaed34c-be99-4506-8d90-9cb8290f177a",
   "metadata": {},
   "source": [
    "**Q1. Create a function which will take a list as an argument and return the product of all the numbers after creating a flat list. Use the below-given list as an argument for your function.  \n",
    "list1 = [1,2,3,4, [44,55,66, True], False, (34,56,78,89,34), {1,2,3,3,2,1}, {1:34, \"key2\": [55, 67, 78, 89], 4: (45,\n",
    "22, 61, 34)}, [56, 'data science'], 'Machine Learning']**"
   ]
  },
  {
   "cell_type": "code",
   "execution_count": 18,
   "id": "3c0b801b-5b9a-4c35-8d9e-d4ee0a557f69",
   "metadata": {},
   "outputs": [],
   "source": [
    "def create_flat_list(l):\n",
    "    for i in l:\n",
    "        if type(i) == int or type(i) == float or type(i) == complex or type(i) == str or type(i) == bool:\n",
    "            yield i\n",
    "        elif type(i) == dict:\n",
    "            for j in create_flat_list(i.items()):\n",
    "                yield j\n",
    "        else:\n",
    "            for j in create_flat_list(i):\n",
    "                yield j"
   ]
  },
  {
   "cell_type": "code",
   "execution_count": 19,
   "id": "3b971cff-8cdd-4c5a-80b5-b7ecaebd55be",
   "metadata": {},
   "outputs": [],
   "source": [
    "def sum_of_int(l):\n",
    "    s = 0\n",
    "    for i in l:\n",
    "        if type(i) == int:\n",
    "            s = s + i\n",
    "    return s"
   ]
  },
  {
   "cell_type": "code",
   "execution_count": 20,
   "id": "65ab2e5b-2bfa-446c-8234-2156f45e3f66",
   "metadata": {},
   "outputs": [],
   "source": [
    "l = [1,2,3,4, [44,55,66, True], False, (34,56,78,89,34), {1,2,3,3,2,1}, {1:34, \"key2\": [55, 67, 78, 89], 4: (45, 22, 61, 34)}, [56, 'data science'], 'Machine Learning']"
   ]
  },
  {
   "cell_type": "code",
   "execution_count": 21,
   "id": "91f6329c-4574-4ce9-ba5f-e28d9c4ebc64",
   "metadata": {},
   "outputs": [],
   "source": [
    "l1 = create_flat_list(l)"
   ]
  },
  {
   "cell_type": "code",
   "execution_count": 22,
   "id": "51112d39-62ef-403b-aa0f-132b75741e09",
   "metadata": {},
   "outputs": [
    {
     "data": {
      "text/plain": [
       "1018"
      ]
     },
     "execution_count": 22,
     "metadata": {},
     "output_type": "execute_result"
    }
   ],
   "source": [
    "sum_of_int(list(l1))"
   ]
  },
  {
   "cell_type": "markdown",
   "id": "24b0a7c5-aded-4b03-b686-7b515437d266",
   "metadata": {},
   "source": [
    "**Q2. Write a python program for encrypting a message sent to you by your friend. The logic of encryption should be such that, for a the output should be z. For b, the output should be y. For c, the output should be x respectively. Also, the whitespace should be replaced with a dollar sign. Keep the punctuation marks unchanged.  \n",
    "Input Sentence: I want to become a Data Scientist.  \n",
    "Encrypt the above input sentence using the program you just created.**"
   ]
  },
  {
   "cell_type": "code",
   "execution_count": 45,
   "id": "6e0d1695-ee70-405e-912a-19e007c55b1c",
   "metadata": {},
   "outputs": [],
   "source": [
    "def encryption(s):\n",
    "    s = s.lower()\n",
    "    e = ''\n",
    "    for i in s:\n",
    "        if ord(i)>=97 and ord(i)<=122:\n",
    "            x = (27 - (ord(i)%96)) + 96\n",
    "            e = e + chr(x)\n",
    "        elif i == ' ':\n",
    "            e = e + '$'\n",
    "        else:\n",
    "            continue\n",
    "    return e"
   ]
  },
  {
   "cell_type": "code",
   "execution_count": 46,
   "id": "5146f575-f50b-4520-b72b-405a2df7e572",
   "metadata": {},
   "outputs": [
    {
     "name": "stdin",
     "output_type": "stream",
     "text": [
      "Enter a message: I want to become a Data Scientist.\n"
     ]
    },
    {
     "data": {
      "text/plain": [
       "'r$dzmg$gl$yvxlnv$z$wzgz$hxrvmgrhg'"
      ]
     },
     "execution_count": 46,
     "metadata": {},
     "output_type": "execute_result"
    }
   ],
   "source": [
    "s = input('Enter a message:')\n",
    "e = encryption(s)\n",
    "e"
   ]
  }
 ],
 "metadata": {
  "kernelspec": {
   "display_name": "Python 3 (ipykernel)",
   "language": "python",
   "name": "python3"
  },
  "language_info": {
   "codemirror_mode": {
    "name": "ipython",
    "version": 3
   },
   "file_extension": ".py",
   "mimetype": "text/x-python",
   "name": "python",
   "nbconvert_exporter": "python",
   "pygments_lexer": "ipython3",
   "version": "3.10.8"
  }
 },
 "nbformat": 4,
 "nbformat_minor": 5
}
