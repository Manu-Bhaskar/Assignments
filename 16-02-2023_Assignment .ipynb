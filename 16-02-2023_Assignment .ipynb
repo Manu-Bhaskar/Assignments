{
 "cells": [
  {
   "cell_type": "markdown",
   "id": "bffefac9-1c93-4be2-8418-f0eea6306294",
   "metadata": {},
   "source": [
    "**Q1. What is a database? Differentiate between SQL and NoSQL databases.**"
   ]
  },
  {
   "cell_type": "markdown",
   "id": "dbe71395-1e7d-4643-8757-efbe15acd85e",
   "metadata": {},
   "source": [
    "A database is a organized colection of structured information in a computer system. A software tool which allows to store data and manage databases is called Database Management System(DBMS).  \n",
    "* Structured Query Language (SQL) is the programming language that is used to store data in structured format i.e. rows and columns. SQL is used in Relational Databases Management System(RDBMS).\n",
    "* Not Only SQL (NoSQL) is the programing language tha is used to store data in unstructured format i.e. files, videos, images etc. NoSQL is used in Non-Relational Databases."
   ]
  },
  {
   "cell_type": "markdown",
   "id": "3e23b0a4-dd57-4e79-9900-65df15ab82ad",
   "metadata": {},
   "source": [
    "**Q2. What is DDL? Explain why CREATE, DROP, ALTER, and TRUNCATE are used with an example.**"
   ]
  },
  {
   "cell_type": "markdown",
   "id": "95c4427b-abc4-48fa-a138-55d98ac7965f",
   "metadata": {},
   "source": [
    "Data Definition Language (DDL) is a subset of SQL that is used to define or describe objects in a  database. Objects here may be tables, sequences, locations, views etc. Primary COmmands include CREATE, DROP, ALTER, and TRUNCATE."
   ]
  },
  {
   "cell_type": "markdown",
   "id": "eb229413-f34f-4011-9440-7e282fa841eb",
   "metadata": {},
   "source": [
    "CREATE is a DDL command that is used to ceate tables or database in a connection.  \n",
    "Eg- CREATE DATABASE test; ---> Creates a database."
   ]
  },
  {
   "cell_type": "markdown",
   "id": "b4a0d7f2-b1c8-4996-b648-1445c9038feb",
   "metadata": {},
   "source": [
    "DROP is a DDL command that permanently deletes objects from a database. DROP deletes the entire structure or schema of a table or database.  \n",
    "Eg- DROP TABLE test.test_table; ---> Deletes the schema of the specified table alongside all the data."
   ]
  },
  {
   "cell_type": "markdown",
   "id": "e3fb5eb0-6739-42da-854b-5781f2acb1ab",
   "metadata": {},
   "source": [
    "ALTER is a DDL command that updates the structure of tables in databases. It performs activty on structure level and not on data level.  \n",
    "Eg- ALTER TABLE tset.test_table ADD c6 INT; ---> It adds a new column in the specified table."
   ]
  },
  {
   "cell_type": "markdown",
   "id": "f5cbcc30-aff1-40ab-8084-f00f82aeaa2f",
   "metadata": {},
   "source": [
    "TRUNCATE is a DDL command that drops all the rows in the table without deleting the structure of table.  \n",
    "Eg- TRUNCATE TABLE test.test_table; ---> It deletes all the data from the specified table without deleting in the schema of table."
   ]
  },
  {
   "cell_type": "markdown",
   "id": "9d7ddfde-047e-4e86-94b8-1e389b51f747",
   "metadata": {},
   "source": [
    "**Q3. What is DML? Explain INSERT, UPDATE, and DELETE with an example.**"
   ]
  },
  {
   "cell_type": "markdown",
   "id": "4bc3d94e-52d1-465e-ab3c-018ab238fab9",
   "metadata": {},
   "source": [
    "Data Manipulation Language (DML) is a subset of SQL commands that helps in manipulation of data in database. This is a component of SQL that controls access to data and database. Primary commands are INSERT, UPDDATE and DELETE."
   ]
  },
  {
   "cell_type": "markdown",
   "id": "47f0fe52-ceed-4813-9c09-a0dbbe8635f5",
   "metadata": {},
   "source": [
    "INSERT is a DML command that is used to insert data into a table.  \n",
    "Eg- INSERT INTO test.test_table VALUES( 10 , 'stu1' , 20 , 'abc' ); ---> It inserts a new record or tuple in the table with the given values."
   ]
  },
  {
   "cell_type": "markdown",
   "id": "9e624ea5-5613-478b-b52d-62ba1a15e8be",
   "metadata": {},
   "source": [
    "UPDATE is a DML command that is used to update the existing data in a table.  \n",
    "Eg- UPDATE test.test_table SET c2 = 'student2' WHERE c1 = 2; ---> It updates all the records or tuples which satisfiy the given condition. If 'WHERE' clause is not is not given then all records wll be updated."
   ]
  },
  {
   "cell_type": "markdown",
   "id": "45774bac-325c-4da7-9fd1-dde930f6976f",
   "metadata": {},
   "source": [
    "DELETE is a DML command that is used to delete a single record from a table.  \n",
    "Eg- DELETE FROM test.test_table WHERE c1 = 3; ---> It deletes all the records or tuples which satisfy the given condition. If 'WHERE' clause is not given then all the data is deleted from the table."
   ]
  },
  {
   "cell_type": "markdown",
   "id": "06aaf07e-1cdf-4987-ac0d-e719350af882",
   "metadata": {},
   "source": [
    "**Q4. What is DQL? Explain SELECT with an example.**"
   ]
  },
  {
   "cell_type": "markdown",
   "id": "d956c4ed-2b10-4dea-b12e-cd554247b475",
   "metadata": {},
   "source": [
    "Data Query Language (DQL) is a subset of SQL commands that helps in performing queries on data within schema objects i.e. its pulls data from objects having a schema like tables, views etc. Primary commands are SELECT."
   ]
  },
  {
   "cell_type": "markdown",
   "id": "435eaa04-db1e-4f2f-98db-5120737b1041",
   "metadata": {},
   "source": [
    "SELECT is a DQL command that is used select data from database.  \n",
    "Eg- SELECT c1 FROM test.test_table;  --->  It selects all the data from column 'c1' from table 'test_table' which exists in database 'test'."
   ]
  },
  {
   "cell_type": "markdown",
   "id": "58399318-7ead-48fb-a8fb-e1a1a7a24bf3",
   "metadata": {},
   "source": [
    "**Q5. Explain Primary Key and Foreign Key.**"
   ]
  },
  {
   "cell_type": "markdown",
   "id": "42cc9533-3656-4cab-9d49-ab2c97e4cdc6",
   "metadata": {},
   "source": [
    "A key is a column or a collection of columns which can be used to uniquely identify records in a table.  \n",
    "A primary key is a single column that is not null and uniquely identifies all the records in a table.  \n",
    "A foreign key is a column or a collection of a table that refers to a key in another tables i.e. columns with same name in both tables posses same values for every record."
   ]
  },
  {
   "cell_type": "markdown",
   "id": "854d0591-698a-4183-a953-0513dded2c6c",
   "metadata": {},
   "source": [
    "**Q6. Write a python code to connect MySQL to python. Explain the cursor() and execute() method.**"
   ]
  },
  {
   "cell_type": "code",
   "execution_count": 5,
   "id": "e97a0105-26ef-4c30-a6eb-48a6fbaac57b",
   "metadata": {},
   "outputs": [
    {
     "name": "stdout",
     "output_type": "stream",
     "text": [
      "(123, 'manu', 234.54, 10, 'bhaskar')\n",
      "(100, 'abcde', 23.302, 10, 'usadkh')\n",
      "(101, 'mawe', 232.29, 10, 'jdie')\n",
      "(102, 'uiewf', 93.24, 10, 'eoeeow')\n",
      "(103, 'oeur', 315.22, 10, 'pweodj')\n",
      "(104, 'orwp', 32.56, 10, 'ldjdfk')\n",
      "(105, 'wajf', 63.48, 10, 'leohfe')\n"
     ]
    }
   ],
   "source": [
    "import mysql.connector as msq\n",
    "db = msq.connect(\n",
    "    host = 'localhost',\n",
    "    user = 'root',\n",
    "    password = 'password'\n",
    ")\n",
    "cu = db.cursor()\n",
    "cu.execute('select * from test.table_name')\n",
    "for i in cu:\n",
    "    print(i)\n",
    "db.close()"
   ]
  },
  {
   "cell_type": "markdown",
   "id": "42bb5148-1986-4fa2-b4bc-fa27ccaa236b",
   "metadata": {},
   "source": [
    "cursor() method of a connection object reurns a cursor class which can be used to execute the given SQL command in the SQL terminal.  \n",
    "execute() method of a cursor class which is used to execute SQL commands given as parameter and the output is stored inthe class which is iterable."
   ]
  },
  {
   "cell_type": "markdown",
   "id": "0b0595da-379f-490d-8dec-af45a9fd9a04",
   "metadata": {},
   "source": [
    "**Q7. Give the order of execution of SQL clauses in an SQL query.**"
   ]
  },
  {
   "cell_type": "markdown",
   "id": "294c574f-b5db-4820-b0b0-6b9c6e22d411",
   "metadata": {},
   "source": [
    "The order of execution refers to the order in which the parts SQL query is evaluated. The order of execution is as follows :-  \n",
    "1. FROM \n",
    "2. WHERE\n",
    "3. GROUP BY\n",
    "4. HAVING\n",
    "5. SELECT\n",
    "6. ORDER BY\n",
    "7. LIMIT"
   ]
  }
 ],
 "metadata": {
  "kernelspec": {
   "display_name": "Python 3 (ipykernel)",
   "language": "python",
   "name": "python3"
  },
  "language_info": {
   "codemirror_mode": {
    "name": "ipython",
    "version": 3
   },
   "file_extension": ".py",
   "mimetype": "text/x-python",
   "name": "python",
   "nbconvert_exporter": "python",
   "pygments_lexer": "ipython3",
   "version": "3.10.8"
  }
 },
 "nbformat": 4,
 "nbformat_minor": 5
}
