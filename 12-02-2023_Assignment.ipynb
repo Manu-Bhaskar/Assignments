{
 "cells": [
  {
   "cell_type": "markdown",
   "id": "617000bd-6de6-434e-b8f2-3038c42441c8",
   "metadata": {},
   "source": [
    "**Q1. What is an Exception in python? Write the difference between Exceptions and Syntax errors.**"
   ]
  },
  {
   "cell_type": "markdown",
   "id": "5b6f3343-001c-4bc8-8b1b-167de223c956",
   "metadata": {},
   "source": [
    "Even if a statement is syntactically correrct we may still encounter a error. When we encounter a error during the execution of code they are called exception.  \n",
    "Syntax errors occur when we write a piece of code incorrectly, while exceptions are given even when the syntax is correct that is they are exceptions that are defined to act as error"
   ]
  },
  {
   "cell_type": "markdown",
   "id": "889be222-ad02-48f3-aa82-37957fb0138a",
   "metadata": {},
   "source": [
    "**Q2. What happens when an exception is not handled? Explain with an example.**"
   ]
  },
  {
   "cell_type": "markdown",
   "id": "dff37230-6a9a-4c6e-99c1-6ab5e8301df2",
   "metadata": {},
   "source": [
    "When an exception is not handled the rest of the code is not executed. For example"
   ]
  },
  {
   "cell_type": "code",
   "execution_count": 1,
   "id": "43b4e4ba-b302-4864-837e-5884aa93cdaa",
   "metadata": {},
   "outputs": [
    {
     "ename": "ZeroDivisionError",
     "evalue": "division by zero",
     "output_type": "error",
     "traceback": [
      "\u001b[0;31m---------------------------------------------------------------------------\u001b[0m",
      "\u001b[0;31mZeroDivisionError\u001b[0m                         Traceback (most recent call last)",
      "Cell \u001b[0;32mIn[1], line 1\u001b[0m\n\u001b[0;32m----> 1\u001b[0m \u001b[38;5;28mprint\u001b[39m(\u001b[38;5;241;43m10\u001b[39;49m\u001b[38;5;241;43m/\u001b[39;49m\u001b[38;5;241;43m0\u001b[39;49m)\n\u001b[1;32m      2\u001b[0m \u001b[38;5;28mprint\u001b[39m(\u001b[38;5;241m10\u001b[39m\u001b[38;5;241m+\u001b[39m\u001b[38;5;241m2\u001b[39m)\n",
      "\u001b[0;31mZeroDivisionError\u001b[0m: division by zero"
     ]
    }
   ],
   "source": [
    "print(10/0)\n",
    "print(10+2)"
   ]
  },
  {
   "cell_type": "markdown",
   "id": "36d5eea8-1427-4072-abea-89671a27e5ca",
   "metadata": {},
   "source": [
    "**Q3. Which Python statements are used to catch and handle exceptions? Explain with an example.**"
   ]
  },
  {
   "cell_type": "markdown",
   "id": "8dd03a81-d93d-4ddd-ab89-2d300a40eaf6",
   "metadata": {},
   "source": [
    "try...except statements are used to catch and handle exceptions. Example"
   ]
  },
  {
   "cell_type": "code",
   "execution_count": 4,
   "id": "0c4aaa81-70f3-43b7-9768-802f00829c5b",
   "metadata": {},
   "outputs": [
    {
     "name": "stdout",
     "output_type": "stream",
     "text": [
      "division by zero\n",
      "12\n"
     ]
    }
   ],
   "source": [
    "try:\n",
    "    print(10/0)\n",
    "except Exception as e:\n",
    "    print(e)\n",
    "finally:\n",
    "    print(10+2)"
   ]
  },
  {
   "cell_type": "markdown",
   "id": "b92873a9-d636-49b2-a60f-90992729b1d7",
   "metadata": {},
   "source": [
    "**Q4. Explain with an example:**  \n",
    "**1. try and else**  \n",
    "**2. finally**  \n",
    "**3. raise**"
   ]
  },
  {
   "cell_type": "markdown",
   "id": "1bdc81bc-fd6a-4300-ae45-0e3b9a2339fb",
   "metadata": {},
   "source": [
    "In try...else statements else block is only executed when there is no exceptions raised in try block"
   ]
  },
  {
   "cell_type": "code",
   "execution_count": 5,
   "id": "89f45230-cd65-41e5-a116-9d966b9ec34f",
   "metadata": {},
   "outputs": [
    {
     "name": "stdout",
     "output_type": "stream",
     "text": [
      "division by zero\n"
     ]
    }
   ],
   "source": [
    "try:\n",
    "    print(10/0)\n",
    "except Exception as e:\n",
    "    print(e)\n",
    "else:\n",
    "    print(10+2)"
   ]
  },
  {
   "cell_type": "code",
   "execution_count": 6,
   "id": "68a26f53-90ae-496f-9267-0ca3f4f61d77",
   "metadata": {},
   "outputs": [
    {
     "name": "stdout",
     "output_type": "stream",
     "text": [
      "10.0\n",
      "12\n"
     ]
    }
   ],
   "source": [
    "try:\n",
    "    print(10/1)\n",
    "except Exception as e:\n",
    "    print(e)\n",
    "else:\n",
    "    print(10+2)"
   ]
  },
  {
   "cell_type": "markdown",
   "id": "d2fe9664-9c9f-496f-868b-47355737d2b3",
   "metadata": {},
   "source": [
    "finally block of code executed reguardless of whether try block raises exception or not"
   ]
  },
  {
   "cell_type": "code",
   "execution_count": 7,
   "id": "77f6ebb3-a0cb-4afa-b1d7-ddfaf0bc7c22",
   "metadata": {},
   "outputs": [
    {
     "name": "stdout",
     "output_type": "stream",
     "text": [
      "division by zero\n",
      "12\n"
     ]
    }
   ],
   "source": [
    "try:\n",
    "    print(10/0)\n",
    "except Exception as e:\n",
    "    print(e)\n",
    "finally:\n",
    "    print(10+2)"
   ]
  },
  {
   "cell_type": "code",
   "execution_count": 8,
   "id": "7a6c8935-bf8b-4f93-a16b-7158f039962e",
   "metadata": {},
   "outputs": [
    {
     "name": "stdout",
     "output_type": "stream",
     "text": [
      "10.0\n",
      "12\n"
     ]
    }
   ],
   "source": [
    "try:\n",
    "    print(10/1)\n",
    "except Exception as e:\n",
    "    print(e)\n",
    "finally:\n",
    "    print(10+2)"
   ]
  },
  {
   "cell_type": "markdown",
   "id": "876f6c57-a4f6-463d-8999-3717ac93bf89",
   "metadata": {},
   "source": [
    "raise keyword is used to raise excptions from a base exception class with or without conditions"
   ]
  },
  {
   "cell_type": "code",
   "execution_count": 2,
   "id": "fe182216-ab05-4dc1-9e37-28aee8545131",
   "metadata": {},
   "outputs": [
    {
     "ename": "Exception",
     "evalue": "Number is positive",
     "output_type": "error",
     "traceback": [
      "\u001b[0;31m---------------------------------------------------------------------------\u001b[0m",
      "\u001b[0;31mException\u001b[0m                                 Traceback (most recent call last)",
      "Cell \u001b[0;32mIn[2], line 3\u001b[0m\n\u001b[1;32m      1\u001b[0m a \u001b[38;5;241m=\u001b[39m \u001b[38;5;241m5\u001b[39m\n\u001b[1;32m      2\u001b[0m \u001b[38;5;28;01mif\u001b[39;00m a\u001b[38;5;241m>\u001b[39m\u001b[38;5;241m0\u001b[39m:\n\u001b[0;32m----> 3\u001b[0m     \u001b[38;5;28;01mraise\u001b[39;00m \u001b[38;5;167;01mException\u001b[39;00m(\u001b[38;5;124m'\u001b[39m\u001b[38;5;124mNumber is positive\u001b[39m\u001b[38;5;124m'\u001b[39m)\n",
      "\u001b[0;31mException\u001b[0m: Number is positive"
     ]
    }
   ],
   "source": [
    "a = 5\n",
    "if a>0:\n",
    "    raise Exception('Number is positive')\n",
    "    "
   ]
  },
  {
   "cell_type": "code",
   "execution_count": 3,
   "id": "9850b7fb-aff7-4f60-811b-019dcf87287d",
   "metadata": {},
   "outputs": [
    {
     "ename": "Exception",
     "evalue": "This is a exception",
     "output_type": "error",
     "traceback": [
      "\u001b[0;31m---------------------------------------------------------------------------\u001b[0m",
      "\u001b[0;31mException\u001b[0m                                 Traceback (most recent call last)",
      "Cell \u001b[0;32mIn[3], line 1\u001b[0m\n\u001b[0;32m----> 1\u001b[0m \u001b[38;5;28;01mraise\u001b[39;00m \u001b[38;5;167;01mException\u001b[39;00m(\u001b[38;5;124m'\u001b[39m\u001b[38;5;124mThis is a exception\u001b[39m\u001b[38;5;124m'\u001b[39m)\n",
      "\u001b[0;31mException\u001b[0m: This is a exception"
     ]
    }
   ],
   "source": [
    "raise Exception('This is a exception')"
   ]
  },
  {
   "cell_type": "markdown",
   "id": "224bacce-3c51-45c0-b6d9-a1d39785d247",
   "metadata": {},
   "source": [
    "**Q5. What are Custom Exceptions in python? Why do we need Custom Exceptions? Explain with an example.**"
   ]
  },
  {
   "cell_type": "markdown",
   "id": "120d7f4e-a179-42a8-a95f-b8a06661a5a1",
   "metadata": {},
   "source": [
    "Custom Exceptions in python are user defined exceptions which are caught and handled during runtime. The keyword raise is used to raise user defined exceptions and the name of class which is used defines the name of the exception. We need custom exception because certain senarios may have restriction on certain variables or input that is not pre defined."
   ]
  },
  {
   "cell_type": "code",
   "execution_count": 4,
   "id": "c869e0db-55e7-4d1b-9525-5f7148dc9453",
   "metadata": {},
   "outputs": [],
   "source": [
    "class UserException(Exception):\n",
    "    def __init__(self , msg):\n",
    "        self.msg = msg"
   ]
  },
  {
   "cell_type": "code",
   "execution_count": 6,
   "id": "56719452-927a-4693-9067-dc8041aaafb8",
   "metadata": {},
   "outputs": [
    {
     "ename": "UserException",
     "evalue": "This is a User Exeption",
     "output_type": "error",
     "traceback": [
      "\u001b[0;31m---------------------------------------------------------------------------\u001b[0m",
      "\u001b[0;31mUserException\u001b[0m                             Traceback (most recent call last)",
      "Cell \u001b[0;32mIn[6], line 1\u001b[0m\n\u001b[0;32m----> 1\u001b[0m \u001b[38;5;28;01mraise\u001b[39;00m UserException(\u001b[38;5;124m'\u001b[39m\u001b[38;5;124mThis is a User Exeption\u001b[39m\u001b[38;5;124m'\u001b[39m)\n",
      "\u001b[0;31mUserException\u001b[0m: This is a User Exeption"
     ]
    }
   ],
   "source": [
    "raise UserException('This is a User Exeption')"
   ]
  },
  {
   "cell_type": "markdown",
   "id": "6656812b-cfe7-4fa2-8d50-6bc97fc7c2ed",
   "metadata": {},
   "source": [
    "**Q6. Create a custom exception class. Use this class to handle an exception.**"
   ]
  },
  {
   "cell_type": "code",
   "execution_count": 8,
   "id": "a7422263-dfbf-4ca4-9204-acb615258019",
   "metadata": {},
   "outputs": [],
   "source": [
    "class MarksException(Exception):\n",
    "    def __init__(self,msg):\n",
    "        self.msg = msg"
   ]
  },
  {
   "cell_type": "code",
   "execution_count": 9,
   "id": "c6fcf356-2494-4e14-80ab-fd8914ad9abc",
   "metadata": {},
   "outputs": [],
   "source": [
    "def validate(marks):\n",
    "    if marks > 100:\n",
    "        raise MarksException('Marks greater than 100')\n",
    "    elif marks < 0:\n",
    "        raise MarksException('Marks less than 0')"
   ]
  },
  {
   "cell_type": "code",
   "execution_count": 10,
   "id": "ecab9cbc-5828-4bf9-9451-895ae8bec6f2",
   "metadata": {},
   "outputs": [
    {
     "name": "stdin",
     "output_type": "stream",
     "text": [
      "Enter marks 120\n"
     ]
    },
    {
     "name": "stdout",
     "output_type": "stream",
     "text": [
      "Marks greater than 100\n"
     ]
    }
   ],
   "source": [
    "try:\n",
    "    marks = int(input('Enter marks'))\n",
    "    validate(marks)\n",
    "except MarksException as e:\n",
    "    print(e)"
   ]
  }
 ],
 "metadata": {
  "kernelspec": {
   "display_name": "Python 3 (ipykernel)",
   "language": "python",
   "name": "python3"
  },
  "language_info": {
   "codemirror_mode": {
    "name": "ipython",
    "version": 3
   },
   "file_extension": ".py",
   "mimetype": "text/x-python",
   "name": "python",
   "nbconvert_exporter": "python",
   "pygments_lexer": "ipython3",
   "version": "3.10.8"
  }
 },
 "nbformat": 4,
 "nbformat_minor": 5
}
