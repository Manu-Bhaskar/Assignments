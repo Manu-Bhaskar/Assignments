{
 "cells": [
  {
   "cell_type": "markdown",
   "id": "2fad5b2b-e95f-4de8-b01b-232d61ddf69b",
   "metadata": {},
   "source": [
    "**Q1, Create a vehicle class with an init method having instance variables as name_of_vehicle, max_speed and average_of_vehicle.**"
   ]
  },
  {
   "cell_type": "code",
   "execution_count": 60,
   "id": "0ea7cb92-6c69-4d65-a1b0-346b31d70042",
   "metadata": {},
   "outputs": [],
   "source": [
    "class vehicle:\n",
    "    def __init__(self , name_of_vehicle, max_speed , average_of_vehicle):\n",
    "        self.__name_of_vehicle = name_of_vehicle\n",
    "        self.__max_speed = max_speed\n",
    "        self.__average_of_vehicle = average_of_vehicle"
   ]
  },
  {
   "cell_type": "markdown",
   "id": "9cae78fe-5303-4d92-972b-bd14201df59a",
   "metadata": {},
   "source": [
    "**Q2. Create a child class car from the vehicle class created in Que 1, which will inherit the vehicle class. Create a method named seating_capacity which takes capacity as an argument and returns the name of the vehicle and its seating capacity.**"
   ]
  },
  {
   "cell_type": "code",
   "execution_count": 64,
   "id": "b143625e-d5ee-4945-b2c7-59be65a261d8",
   "metadata": {},
   "outputs": [],
   "source": [
    "class car(vehicle):\n",
    "    def seating_capacity(self , capacity):\n",
    "        self.__capacity = capacity\n",
    "        return self._vehicle__name_of_vehicle , self.__capacity"
   ]
  },
  {
   "cell_type": "code",
   "execution_count": 65,
   "id": "1945d158-ebb9-425e-94f9-6444eefa4485",
   "metadata": {},
   "outputs": [],
   "source": [
    "c = car('Alto' , 100 , 40)"
   ]
  },
  {
   "cell_type": "code",
   "execution_count": 66,
   "id": "c243b473-3de7-4732-82fb-80e426cf401f",
   "metadata": {},
   "outputs": [
    {
     "data": {
      "text/plain": [
       "('Alto', 4)"
      ]
     },
     "execution_count": 66,
     "metadata": {},
     "output_type": "execute_result"
    }
   ],
   "source": [
    "c.seating_capacity(4)"
   ]
  },
  {
   "cell_type": "markdown",
   "id": "649400da-f7b3-483f-97f6-6d104d3cf371",
   "metadata": {},
   "source": [
    "**Q3. What is multiple inheritance? Write a python code to demonstrate multiple inheritance.**"
   ]
  },
  {
   "cell_type": "markdown",
   "id": "a9b2fbf0-e669-4d3e-ac41-a54ff866acb6",
   "metadata": {},
   "source": [
    "The Inheritance in which child class inherits properties from multiple parent classes"
   ]
  },
  {
   "cell_type": "code",
   "execution_count": 54,
   "id": "98cfe0de-1375-4090-bb23-fa937e0d60cf",
   "metadata": {},
   "outputs": [],
   "source": [
    "class Father:\n",
    "    \n",
    "    def father_meth(self):\n",
    "        return \"This is a method from Father class\""
   ]
  },
  {
   "cell_type": "code",
   "execution_count": 55,
   "id": "6817aa53-0f10-4125-920a-7a0190b7427e",
   "metadata": {},
   "outputs": [],
   "source": [
    "class Mother:\n",
    "    \n",
    "    def mother_meth(self):\n",
    "        return \"This is method from Mother class\""
   ]
  },
  {
   "cell_type": "code",
   "execution_count": 56,
   "id": "77a0d02e-0d1f-4f6f-b396-ed625b1e5019",
   "metadata": {},
   "outputs": [],
   "source": [
    "class child(Father , Mother):\n",
    "    pass"
   ]
  },
  {
   "cell_type": "code",
   "execution_count": 57,
   "id": "0d5c190e-557b-4e71-83e7-31c007713632",
   "metadata": {},
   "outputs": [],
   "source": [
    "obj = child()"
   ]
  },
  {
   "cell_type": "code",
   "execution_count": 58,
   "id": "235ab084-4354-414c-9e6f-0de7e6dc9037",
   "metadata": {},
   "outputs": [
    {
     "data": {
      "text/plain": [
       "'This is a method from Father class'"
      ]
     },
     "execution_count": 58,
     "metadata": {},
     "output_type": "execute_result"
    }
   ],
   "source": [
    "obj.father_meth()"
   ]
  },
  {
   "cell_type": "code",
   "execution_count": 59,
   "id": "e7fccc58-2dc6-4bb2-84ce-47b195b9d33d",
   "metadata": {},
   "outputs": [
    {
     "data": {
      "text/plain": [
       "'This is method from Mother class'"
      ]
     },
     "execution_count": 59,
     "metadata": {},
     "output_type": "execute_result"
    }
   ],
   "source": [
    "obj.mother_meth()"
   ]
  },
  {
   "cell_type": "markdown",
   "id": "4b57619d-964e-4e0e-bfaf-bb56f72bd7f4",
   "metadata": {},
   "source": [
    "**Q4. What are getter and setter in python? Create a class and create a getter and a setter method in this class.**"
   ]
  },
  {
   "cell_type": "markdown",
   "id": "139b4000-a41e-4800-b83c-f28700f6290a",
   "metadata": {},
   "source": [
    "Getters and setters are user defined functions which help in getting and setting value of private variables."
   ]
  },
  {
   "cell_type": "code",
   "execution_count": 68,
   "id": "63c79a7e-15ee-46ac-a0bd-41f1b8f723db",
   "metadata": {},
   "outputs": [],
   "source": [
    "class test:\n",
    "    \n",
    "    def __init__(self, a ):\n",
    "        self.__a = a\n",
    "    def set_b(self , b):\n",
    "        self.__b = b\n",
    "    def get_b(self):\n",
    "        return self.__b\n",
    "    def get_a(self):\n",
    "        return self.__a"
   ]
  },
  {
   "cell_type": "code",
   "execution_count": 69,
   "id": "430b1bae-7446-4faf-ab0b-e1f8f9752f6a",
   "metadata": {},
   "outputs": [],
   "source": [
    "t = test(10)"
   ]
  },
  {
   "cell_type": "code",
   "execution_count": 70,
   "id": "3e71d0eb-5e43-4ab4-8fc1-d57e1dc73f9c",
   "metadata": {},
   "outputs": [
    {
     "data": {
      "text/plain": [
       "10"
      ]
     },
     "execution_count": 70,
     "metadata": {},
     "output_type": "execute_result"
    }
   ],
   "source": [
    "t.get_a()"
   ]
  },
  {
   "cell_type": "code",
   "execution_count": 71,
   "id": "8c62114b-364f-4d84-8901-eb3654e1aece",
   "metadata": {},
   "outputs": [],
   "source": [
    "t.set_b(20)"
   ]
  },
  {
   "cell_type": "code",
   "execution_count": 72,
   "id": "417d1638-b912-4655-8867-8d3f32bd6765",
   "metadata": {},
   "outputs": [
    {
     "data": {
      "text/plain": [
       "20"
      ]
     },
     "execution_count": 72,
     "metadata": {},
     "output_type": "execute_result"
    }
   ],
   "source": [
    "t.get_b()"
   ]
  },
  {
   "cell_type": "markdown",
   "id": "ff9bcb9d-4f46-4eac-9bb6-1b56fd601454",
   "metadata": {},
   "source": [
    "**Q5.What is method overriding in python? Write a python code to demonstrate method overriding.**"
   ]
  },
  {
   "cell_type": "markdown",
   "id": "e55efa90-216f-4ff3-882d-7f2950c6cb71",
   "metadata": {},
   "source": [
    "Method overriding is process in which we override a method of parent class in child class"
   ]
  },
  {
   "cell_type": "code",
   "execution_count": 73,
   "id": "842c89b9-5768-4b54-901e-ffd5e412d452",
   "metadata": {},
   "outputs": [],
   "source": [
    "class parent:\n",
    "    def meth(self):\n",
    "        return \"This is a Parent class method\""
   ]
  },
  {
   "cell_type": "code",
   "execution_count": 75,
   "id": "c55da010-de00-4aa0-9c17-8cbf501b42fb",
   "metadata": {},
   "outputs": [],
   "source": [
    "class child(parent):\n",
    "    def meth(self):\n",
    "        return \"This is a child class method\""
   ]
  },
  {
   "cell_type": "code",
   "execution_count": 76,
   "id": "530a1ba7-753b-43ff-a886-6dd0614ec8f5",
   "metadata": {},
   "outputs": [],
   "source": [
    "p = parent()\n",
    "c = child()"
   ]
  },
  {
   "cell_type": "code",
   "execution_count": 77,
   "id": "757a9fd5-1ea3-4ad9-9976-9e03229c4b7a",
   "metadata": {},
   "outputs": [
    {
     "data": {
      "text/plain": [
       "'This is a Parent class method'"
      ]
     },
     "execution_count": 77,
     "metadata": {},
     "output_type": "execute_result"
    }
   ],
   "source": [
    "p.meth()"
   ]
  },
  {
   "cell_type": "code",
   "execution_count": 78,
   "id": "cd107543-a1b2-47c9-862b-795f566975b4",
   "metadata": {},
   "outputs": [
    {
     "data": {
      "text/plain": [
       "'This is a child class method'"
      ]
     },
     "execution_count": 78,
     "metadata": {},
     "output_type": "execute_result"
    }
   ],
   "source": [
    "c.meth()"
   ]
  }
 ],
 "metadata": {
  "kernelspec": {
   "display_name": "Python 3 (ipykernel)",
   "language": "python",
   "name": "python3"
  },
  "language_info": {
   "codemirror_mode": {
    "name": "ipython",
    "version": 3
   },
   "file_extension": ".py",
   "mimetype": "text/x-python",
   "name": "python",
   "nbconvert_exporter": "python",
   "pygments_lexer": "ipython3",
   "version": "3.10.8"
  }
 },
 "nbformat": 4,
 "nbformat_minor": 5
}
