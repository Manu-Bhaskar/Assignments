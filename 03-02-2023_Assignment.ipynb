{
 "cells": [
  {
   "cell_type": "markdown",
   "id": "8798b60e-5921-48c6-8564-d89c7ba8b932",
   "metadata": {},
   "source": [
    "# ANS 1:"
   ]
  },
  {
   "cell_type": "markdown",
   "id": "68682911-a6a6-4f6d-8c45-f3573621b915",
   "metadata": {},
   "source": [
    "The keyword used to define a function is 'def'. "
   ]
  },
  {
   "cell_type": "code",
   "execution_count": 7,
   "id": "0b20e068-1df7-4d33-a5ff-4b19ac4c2712",
   "metadata": {},
   "outputs": [],
   "source": [
    "def oddnum():\n",
    "    l = []\n",
    "    for i in range(1,26):\n",
    "        if i % 2 != 0:\n",
    "            l.append(i)\n",
    "    return l"
   ]
  },
  {
   "cell_type": "code",
   "execution_count": 8,
   "id": "f6fba7c0-b3ee-4cfa-ae06-d953a5bf5ab9",
   "metadata": {},
   "outputs": [
    {
     "data": {
      "text/plain": [
       "[1, 3, 5, 7, 9, 11, 13, 15, 17, 19, 21, 23, 25]"
      ]
     },
     "execution_count": 8,
     "metadata": {},
     "output_type": "execute_result"
    }
   ],
   "source": [
    "oddnum()"
   ]
  },
  {
   "cell_type": "markdown",
   "id": "884c5c00-de9e-47f7-9bb0-9660da9e3d27",
   "metadata": {},
   "source": [
    "# ANS 2:"
   ]
  },
  {
   "cell_type": "markdown",
   "id": "bcb77c47-a28f-4353-a289-01f4c74b6069",
   "metadata": {},
   "source": [
    "*args is used when we have to take input from arguments dynamically. \n",
    "**kwargs is used when we take key value pairs in form of dictionary where key is variable name and value is the value the corresponding varibale is \n",
    "holding. It is also done dynamically"
   ]
  },
  {
   "cell_type": "code",
   "execution_count": 9,
   "id": "602fcec5-5cf4-4413-9ca0-294cb889eae4",
   "metadata": {},
   "outputs": [],
   "source": [
    "def test(*args):\n",
    "    return args"
   ]
  },
  {
   "cell_type": "code",
   "execution_count": 10,
   "id": "7bdcc039-424f-4467-8f95-ef7e325b6360",
   "metadata": {},
   "outputs": [
    {
     "data": {
      "text/plain": [
       "(1, 2, 4)"
      ]
     },
     "execution_count": 10,
     "metadata": {},
     "output_type": "execute_result"
    }
   ],
   "source": [
    "test(1,2,4)"
   ]
  },
  {
   "cell_type": "code",
   "execution_count": 11,
   "id": "9dffea7d-bb15-4dab-b36d-f0affda6b139",
   "metadata": {},
   "outputs": [],
   "source": [
    "def test2(**kwargs):\n",
    "    return kwargs"
   ]
  },
  {
   "cell_type": "code",
   "execution_count": 12,
   "id": "b4a1eb96-5083-4ec2-8ed2-f8ec99ad3a50",
   "metadata": {},
   "outputs": [
    {
     "data": {
      "text/plain": [
       "{'a': 1, 'b': 'manu', 'c': 12.4}"
      ]
     },
     "execution_count": 12,
     "metadata": {},
     "output_type": "execute_result"
    }
   ],
   "source": [
    "test2(a = 1 , b = 'manu' , c= 12.4)"
   ]
  },
  {
   "cell_type": "markdown",
   "id": "82a82a3a-05f5-4082-975b-91f4fbf5b726",
   "metadata": {},
   "source": [
    "# ANS 3:"
   ]
  },
  {
   "cell_type": "markdown",
   "id": "8484443b-072f-492e-a671-eb248040e86c",
   "metadata": {},
   "source": [
    "An iterator is an object that stores a elements of an iterable (string, list, tuple etc) and can be iterated over. An iterator does not store values it is iterating over in memory unlike for loop.  \n",
    "Methods used to initialise a iterator is iter() and method used for iterations is next()."
   ]
  },
  {
   "cell_type": "code",
   "execution_count": 14,
   "id": "80d3fa73-075c-4eda-9e2b-bf9e36cd4ffc",
   "metadata": {},
   "outputs": [
    {
     "name": "stdout",
     "output_type": "stream",
     "text": [
      "2\n",
      "4\n",
      "6\n",
      "8\n",
      "10\n"
     ]
    }
   ],
   "source": [
    "l = [2, 4, 6, 8, 10, 12, 14, 16, 18, 20]\n",
    "myiter = iter(l)\n",
    "print(next(myiter))\n",
    "print(next(myiter))\n",
    "print(next(myiter))\n",
    "print(next(myiter))\n",
    "print(next(myiter))"
   ]
  },
  {
   "cell_type": "markdown",
   "id": "f939375c-9b2f-41aa-b8a1-9b9037cbff40",
   "metadata": {},
   "source": [
    "# ANS 4:"
   ]
  },
  {
   "cell_type": "markdown",
   "id": "8701700f-6341-4b93-a617-04756b015a6c",
   "metadata": {},
   "source": [
    "Generator functions returns a iterator usin yield keyword  \n",
    "Yield keyword also returns values like return statement but returns iterators and only pauses the execution whereas return stops execution entirely.  Yield returns multiple values in iterator  "
   ]
  },
  {
   "cell_type": "code",
   "execution_count": 18,
   "id": "1f77d492-6a34-4700-be53-39f38ca576dd",
   "metadata": {},
   "outputs": [],
   "source": [
    "def gen():\n",
    "    for i in range(5):\n",
    "        yield i\n"
   ]
  },
  {
   "cell_type": "code",
   "execution_count": 21,
   "id": "dc69a5b4-dff2-49a0-8f93-1f0d70d0ea13",
   "metadata": {},
   "outputs": [],
   "source": [
    "s = gen()"
   ]
  },
  {
   "cell_type": "code",
   "execution_count": 22,
   "id": "9e3053f1-6b4e-46d0-8abe-35098e7a77f3",
   "metadata": {},
   "outputs": [
    {
     "name": "stdout",
     "output_type": "stream",
     "text": [
      "0\n",
      "1\n",
      "2\n",
      "3\n",
      "4\n"
     ]
    }
   ],
   "source": [
    "print(next(s))\n",
    "print(next(s))\n",
    "print(next(s))\n",
    "print(next(s))\n",
    "print(next(s))"
   ]
  },
  {
   "cell_type": "markdown",
   "id": "cdd76676-1bd2-4bb9-a628-3d32c2504ba0",
   "metadata": {},
   "source": [
    "# ANS 5:"
   ]
  },
  {
   "cell_type": "code",
   "execution_count": 54,
   "id": "b5065360-474f-4ad6-b329-815ee0ba30b4",
   "metadata": {},
   "outputs": [],
   "source": [
    "def prime():\n",
    "    for i in range(2, 1001):\n",
    "        count = 0\n",
    "        for j in range(1, i):\n",
    "            if i % j == 0 :\n",
    "                count = count + 1\n",
    "        if count == 1:\n",
    "            yield i"
   ]
  },
  {
   "cell_type": "code",
   "execution_count": 57,
   "id": "45787890-8551-4e23-a914-3a4c5c02aecc",
   "metadata": {},
   "outputs": [
    {
     "name": "stdout",
     "output_type": "stream",
     "text": [
      "2 3 5 7 11 13 17 19 23 29 31 37 41 43 47 53 59 61 67 71 "
     ]
    }
   ],
   "source": [
    "p = prime()\n",
    "for i in range(20):\n",
    "    print(next(p) , end = ' ')"
   ]
  },
  {
   "cell_type": "markdown",
   "id": "385a46b2-3525-4fd6-beea-bb4015cfc6a0",
   "metadata": {},
   "source": [
    "# ANS 6:"
   ]
  },
  {
   "cell_type": "code",
   "execution_count": 42,
   "id": "1b82aa11-1199-460e-aa69-289b5209a666",
   "metadata": {},
   "outputs": [
    {
     "name": "stdin",
     "output_type": "stream",
     "text": [
      "Enter numbeer of terms 10\n"
     ]
    },
    {
     "name": "stdout",
     "output_type": "stream",
     "text": [
      "0 1 1 2 3 5 8 13 21 34 "
     ]
    }
   ],
   "source": [
    "c = int(input(\"Enter numbeer of terms\"))\n",
    "a = 0 \n",
    "b = 1\n",
    "while c > 0:\n",
    "    print(a, end = \" \")\n",
    "    b = a + b\n",
    "    a = b - a\n",
    "    c = c - 1"
   ]
  },
  {
   "cell_type": "markdown",
   "id": "1018dbd1-df63-4d1a-b997-e227569488af",
   "metadata": {},
   "source": [
    "# ANS 7:"
   ]
  },
  {
   "cell_type": "code",
   "execution_count": 43,
   "id": "767686bc-20bd-4c53-8bb0-91539070b3b9",
   "metadata": {},
   "outputs": [],
   "source": [
    "s = 'pwskills'"
   ]
  },
  {
   "cell_type": "code",
   "execution_count": 44,
   "id": "1b9cc6f3-7699-4417-839e-3da0f4052d54",
   "metadata": {},
   "outputs": [
    {
     "data": {
      "text/plain": [
       "['p', 'w', 's', 'k', 'i', 'l', 'l', 's']"
      ]
     },
     "execution_count": 44,
     "metadata": {},
     "output_type": "execute_result"
    }
   ],
   "source": [
    "[i for i in s]"
   ]
  },
  {
   "cell_type": "markdown",
   "id": "d73b5d7f-faa6-4ea3-8d12-bf217e9e38d7",
   "metadata": {},
   "source": [
    "# ANS 8:"
   ]
  },
  {
   "cell_type": "code",
   "execution_count": 50,
   "id": "94a948f9-41a9-4f6a-8e42-d7cd28e05602",
   "metadata": {},
   "outputs": [
    {
     "name": "stdin",
     "output_type": "stream",
     "text": [
      "Enter a number 1221\n"
     ]
    },
    {
     "name": "stdout",
     "output_type": "stream",
     "text": [
      "1221 is pallindronme\n"
     ]
    }
   ],
   "source": [
    "num = int(input(\"Enter a number\"))\n",
    "r = 0\n",
    "g = num\n",
    "while g > 0:\n",
    "    r = (r*10) + (g % 10)\n",
    "    g = int(g / 10)\n",
    "if r == num:\n",
    "    print(f\"{num} is pallindronme\")\n",
    "else:\n",
    "    print(f\"{num} is not pallindronme\")"
   ]
  },
  {
   "cell_type": "markdown",
   "id": "d2637d30-efe0-4995-a8e1-a8268f0a46ca",
   "metadata": {},
   "source": [
    "# ANS 9:"
   ]
  },
  {
   "cell_type": "code",
   "execution_count": 51,
   "id": "6f606ca7-c8ad-4f6e-b9fc-c4e45c066e23",
   "metadata": {},
   "outputs": [
    {
     "data": {
      "text/plain": [
       "[1,\n",
       " 3,\n",
       " 5,\n",
       " 7,\n",
       " 9,\n",
       " 11,\n",
       " 13,\n",
       " 15,\n",
       " 17,\n",
       " 19,\n",
       " 21,\n",
       " 23,\n",
       " 25,\n",
       " 27,\n",
       " 29,\n",
       " 31,\n",
       " 33,\n",
       " 35,\n",
       " 37,\n",
       " 39,\n",
       " 41,\n",
       " 43,\n",
       " 45,\n",
       " 47,\n",
       " 49,\n",
       " 51,\n",
       " 53,\n",
       " 55,\n",
       " 57,\n",
       " 59,\n",
       " 61,\n",
       " 63,\n",
       " 65,\n",
       " 67,\n",
       " 69,\n",
       " 71,\n",
       " 73,\n",
       " 75,\n",
       " 77,\n",
       " 79,\n",
       " 81,\n",
       " 83,\n",
       " 85,\n",
       " 87,\n",
       " 89,\n",
       " 91,\n",
       " 93,\n",
       " 95,\n",
       " 97,\n",
       " 99]"
      ]
     },
     "execution_count": 51,
     "metadata": {},
     "output_type": "execute_result"
    }
   ],
   "source": [
    "[i for i in range(1,101) if i % 2 != 0]"
   ]
  }
 ],
 "metadata": {
  "kernelspec": {
   "display_name": "Python 3 (ipykernel)",
   "language": "python",
   "name": "python3"
  },
  "language_info": {
   "codemirror_mode": {
    "name": "ipython",
    "version": 3
   },
   "file_extension": ".py",
   "mimetype": "text/x-python",
   "name": "python",
   "nbconvert_exporter": "python",
   "pygments_lexer": "ipython3",
   "version": "3.10.8"
  }
 },
 "nbformat": 4,
 "nbformat_minor": 5
}
