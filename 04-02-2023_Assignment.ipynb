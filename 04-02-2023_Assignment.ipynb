{
 "cells": [
  {
   "cell_type": "markdown",
   "id": "3ff372ff-ac79-417c-bcc1-ecc690da1ef8",
   "metadata": {},
   "source": [
    "**Q1. Create a python program to sort the given list of tuples based on integer value using a lambda function.**  \n",
    "**[('Sachin Tendulkar', 34357), ('Ricky Ponting', 27483), ('Jack Kallis', 25534), ('Virat Kohli', 24936)]**"
   ]
  },
  {
   "cell_type": "code",
   "execution_count": 21,
   "id": "0c654495-623d-4f10-80bf-ec0a9251e075",
   "metadata": {},
   "outputs": [],
   "source": [
    "l = [('Sachin Tendulkar', 34357), ('Ricky Ponting', 27483), ('Jack Kallis', 25534), ('Virat Kohli', 24936)]"
   ]
  },
  {
   "cell_type": "code",
   "execution_count": 49,
   "id": "c20773ab-992a-4fa7-9fd0-69272fc73410",
   "metadata": {},
   "outputs": [],
   "source": [
    "d = {v : k for k,v in l}"
   ]
  },
  {
   "cell_type": "code",
   "execution_count": 50,
   "id": "97924edf-a577-4c03-a1de-73bd13f8ce5b",
   "metadata": {},
   "outputs": [],
   "source": [
    "l1 = list(d.keys())"
   ]
  },
  {
   "cell_type": "code",
   "execution_count": 51,
   "id": "3e324588-5c60-491b-8adc-608beb15dda9",
   "metadata": {},
   "outputs": [],
   "source": [
    "a = lambda x : x.sort()"
   ]
  },
  {
   "cell_type": "code",
   "execution_count": 52,
   "id": "5fb06502-c035-4d64-8315-a4dda1ec621a",
   "metadata": {},
   "outputs": [],
   "source": [
    "a(l1)"
   ]
  },
  {
   "cell_type": "code",
   "execution_count": 53,
   "id": "a0d382f6-a901-4e75-9ee5-1ad42da556ed",
   "metadata": {},
   "outputs": [],
   "source": [
    "d1 = {d[i]:i for i in l1}"
   ]
  },
  {
   "cell_type": "code",
   "execution_count": 54,
   "id": "28cc45eb-1e2c-42e2-a08d-41b95ba3ba91",
   "metadata": {},
   "outputs": [
    {
     "data": {
      "text/plain": [
       "[('Virat Kohli', 24936),\n",
       " ('Jack Kallis', 25534),\n",
       " ('Ricky Ponting', 27483),\n",
       " ('Sachin Tendulkar', 34357)]"
      ]
     },
     "execution_count": 54,
     "metadata": {},
     "output_type": "execute_result"
    }
   ],
   "source": [
    "list(d1.items())"
   ]
  },
  {
   "cell_type": "markdown",
   "id": "1164e400-19b9-41b7-9b4a-867a762a000d",
   "metadata": {},
   "source": [
    "**Q2. Write a Python Program to find the squares of all the numbers in the given list of integers using lambda and map functions.**  \n",
    "**[1, 2, 3, 4, 5, 6, 7, 8, 9, 10]**"
   ]
  },
  {
   "cell_type": "code",
   "execution_count": 6,
   "id": "9cd1dff0-6bc5-4c99-ab3b-5715bd77a7d4",
   "metadata": {},
   "outputs": [],
   "source": [
    "l = [1, 2, 3, 4, 5, 6, 7, 8, 9, 10]"
   ]
  },
  {
   "cell_type": "code",
   "execution_count": 7,
   "id": "335aaaac-1c95-43c4-b3c1-78f4737628e4",
   "metadata": {},
   "outputs": [
    {
     "name": "stdout",
     "output_type": "stream",
     "text": [
      "[1, 4, 9, 16, 25, 36, 49, 64, 81, 100]\n"
     ]
    }
   ],
   "source": [
    "l1 = map(lambda x : x**2 , l)\n",
    "print(list(l1))"
   ]
  },
  {
   "cell_type": "markdown",
   "id": "52b5a8c5-eb97-43bb-87ae-13ad64b3a9f5",
   "metadata": {},
   "source": [
    "**Q3. Write a python program to convert the given list of integers into a tuple of strings. Use map and lambda functions**  \n",
    "**Given String: [1, 2, 3, 4, 5, 6, 7, 8, 9, 10]**  \n",
    "**Expected output: ('1', '2', '3', '4', '5', '6', '7', '8', '9', '10')**"
   ]
  },
  {
   "cell_type": "code",
   "execution_count": 8,
   "id": "335610f3-72bb-4ffd-871a-e21e92992fb0",
   "metadata": {},
   "outputs": [],
   "source": [
    "l = [1, 2, 3, 4, 5, 6, 7, 8, 9, 10]"
   ]
  },
  {
   "cell_type": "code",
   "execution_count": 9,
   "id": "193b44ed-131e-445a-87f8-f178ebeba6d0",
   "metadata": {},
   "outputs": [
    {
     "name": "stdout",
     "output_type": "stream",
     "text": [
      "('1', '2', '3', '4', '5', '6', '7', '8', '9', '10')\n"
     ]
    }
   ],
   "source": [
    "t = map(lambda x : str(x) , l)\n",
    "print(tuple(t))"
   ]
  },
  {
   "cell_type": "markdown",
   "id": "bff2a862-15b4-4c2a-b18c-5cf5c7d14220",
   "metadata": {},
   "source": [
    "**Q4. Write a python program using reduce function to compute the product of a list containing numbers from 1 to 25.**"
   ]
  },
  {
   "cell_type": "code",
   "execution_count": 10,
   "id": "7c634e78-ca70-4fe5-bb9a-bb607109018d",
   "metadata": {},
   "outputs": [],
   "source": [
    "l = [i for i in range(1,26)]"
   ]
  },
  {
   "cell_type": "code",
   "execution_count": 11,
   "id": "53504f00-fdd6-457d-a263-7ff6d690e2d0",
   "metadata": {},
   "outputs": [],
   "source": [
    "from functools import reduce"
   ]
  },
  {
   "cell_type": "code",
   "execution_count": 12,
   "id": "40812964-eb9d-4054-b8ca-4d3c415eafe9",
   "metadata": {},
   "outputs": [
    {
     "data": {
      "text/plain": [
       "15511210043330985984000000"
      ]
     },
     "execution_count": 12,
     "metadata": {},
     "output_type": "execute_result"
    }
   ],
   "source": [
    "reduce(lambda x , y : x*y,l)"
   ]
  },
  {
   "cell_type": "markdown",
   "id": "c49323e0-0bd5-4f0e-9ee5-753d542ac5d7",
   "metadata": {},
   "source": [
    "**Q5. Write a python program to filter the numbers in a given list that are divisible by 2 and 3 using the filter function.**  \n",
    "**[2, 3, 6, 9, 27, 60, 90, 120, 55, 46]**"
   ]
  },
  {
   "cell_type": "code",
   "execution_count": 13,
   "id": "6423e815-42ba-455e-89ca-9a6db895c35f",
   "metadata": {},
   "outputs": [],
   "source": [
    "l = [2, 3, 6, 9, 27, 60, 90, 120, 55, 46]"
   ]
  },
  {
   "cell_type": "code",
   "execution_count": 14,
   "id": "15908add-18d7-4d7a-a08a-1cf4a7641464",
   "metadata": {},
   "outputs": [
    {
     "name": "stdout",
     "output_type": "stream",
     "text": [
      "[6, 60, 90, 120]\n"
     ]
    }
   ],
   "source": [
    "l1 = filter(lambda x : x%2==0 and x%3==0 , l)\n",
    "print(list(l1))"
   ]
  },
  {
   "cell_type": "markdown",
   "id": "10d5fe5d-db5c-49b7-8e5d-93226771174e",
   "metadata": {},
   "source": [
    "**Q6. Write a python program to find palindromes in the given list of strings using lambda and filter function.**  \n",
    "**['python', 'php', 'aba', 'radar', 'level']**"
   ]
  },
  {
   "cell_type": "code",
   "execution_count": 15,
   "id": "b8b37ae1-2ac7-4807-a9cb-b75d66b8ba99",
   "metadata": {},
   "outputs": [],
   "source": [
    "l = ['python', 'php', 'aba', 'radar', 'level']"
   ]
  },
  {
   "cell_type": "code",
   "execution_count": 16,
   "id": "8727cd71-e730-428c-a07e-a9e2ff21dc15",
   "metadata": {},
   "outputs": [
    {
     "name": "stdout",
     "output_type": "stream",
     "text": [
      "['php', 'aba', 'radar', 'level']\n"
     ]
    }
   ],
   "source": [
    "l1 = filter(lambda x : x[::-1] ==  x , l)\n",
    "print(list(l1))"
   ]
  }
 ],
 "metadata": {
  "kernelspec": {
   "display_name": "Python 3 (ipykernel)",
   "language": "python",
   "name": "python3"
  },
  "language_info": {
   "codemirror_mode": {
    "name": "ipython",
    "version": 3
   },
   "file_extension": ".py",
   "mimetype": "text/x-python",
   "name": "python",
   "nbconvert_exporter": "python",
   "pygments_lexer": "ipython3",
   "version": "3.10.8"
  }
 },
 "nbformat": 4,
 "nbformat_minor": 5
}
